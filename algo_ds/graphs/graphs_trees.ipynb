{
  "nbformat": 4,
  "nbformat_minor": 0,
  "metadata": {
    "colab": {
      "name": "graphs_trees.ipynb",
      "provenance": [],
      "authorship_tag": "ABX9TyNJGsY4rdvG0XwN/EINqLTx",
      "include_colab_link": true
    },
    "kernelspec": {
      "name": "python3",
      "display_name": "Python 3"
    }
  },
  "cells": [
    {
      "cell_type": "markdown",
      "metadata": {
        "id": "view-in-github",
        "colab_type": "text"
      },
      "source": [
        "<a href=\"https://colab.research.google.com/github/thefr33radical/codeblue/blob/master/algo_ds/graphs_trees.ipynb\" target=\"_parent\"><img src=\"https://colab.research.google.com/assets/colab-badge.svg\" alt=\"Open In Colab\"/></a>"
      ]
    },
    {
      "cell_type": "markdown",
      "metadata": {
        "id": "l1TSIh5blhjB",
        "colab_type": "text"
      },
      "source": [
        " # **Graphs & Trees Workbook**\n",
        "\n",
        "\n",
        "---\n",
        "\n",
        "\n",
        "\n",
        "\n",
        "> **References**\n",
        "  * [Networkx](https://networkx.github.io/documentation/stable/reference/algorithms/)\n",
        "  * [GeeksforGeeks](https://www.geeksforgeeks.org/graph-data-structure-and-algorithms/)"
      ]
    },
    {
      "cell_type": "code",
      "metadata": {
        "id": "oMphfH-5_eG1",
        "colab_type": "code",
        "colab": {
          "base_uri": "https://localhost:8080/",
          "height": 35
        },
        "outputId": "ffdb45a6-7b0e-4753-b2fd-26c7aa84baf6"
      },
      "source": [
        "# Find the maximum width of the tree\n",
        "# https://www.geeksforgeeks.org/height-generic-tree-parent-array/\n",
        "\n",
        "def find_max_width(graph):\n",
        "  pass\n",
        "parent = [-1, 0, 0, 0, 3, 1, 1, 2]\n",
        "tree={}\n",
        "# construct tree\n",
        "for p in range(len(parent)+1):\n",
        "  tree[p]=[]\n",
        "\n",
        "for p in range(len(parent)):\n",
        "  if parent[p]==-1:\n",
        "    continue\n",
        "  tree[parent[p]].append(p)\n",
        "    \n",
        "print(tree)"
      ],
      "execution_count": null,
      "outputs": [
        {
          "output_type": "stream",
          "text": [
            "{0: [1, 2, 3], 1: [5, 6], 2: [7], 3: [4], 4: [], 5: [], 6: [], 7: [], 8: []}\n"
          ],
          "name": "stdout"
        }
      ]
    },
    {
      "cell_type": "markdown",
      "metadata": {
        "id": "RFQoHw2WDM38",
        "colab_type": "text"
      },
      "source": [
        "#SHORTEST PATH ALGORITHMS\n",
        "\n",
        "*Best Algorithms to use to find shortest paths*\n",
        "* Unweighted -> **BFS**                                           T(C) = O(E+V)\n",
        "* Weighted without negative edges -> **Dijstra's**                T(C)=O(ElogV)\n",
        "* Weighted with negative edges -> **Bellman**                    T(C)=O(V-1 X E)\n",
        "\n",
        "References:\n",
        "\n",
        "[difference between prim and dijkstras](https://stackoverflow.com/questions/14144279/difference-between-prims-and-dijkstras-algorithms#:~:text=15%20Answers&text=Prim's%20algorithm%20constructs%20a%20minimum,that%20connect%20all%20the%20nodes.&text=Dijkstra's%20algorithm%20constructs%20a%20shortest%20path%20tree%20starting%20from%20some%20source%20node.)\n"
      ]
    },
    {
      "cell_type": "code",
      "metadata": {
        "id": "xLZYPVq8sZDE",
        "colab_type": "code",
        "colab": {}
      },
      "source": [
        "'''\n",
        "Bellman-Ford Algorithm\n",
        "\n",
        "* T(C) = O(V X E)\n",
        "* Dynamic Programming Algorithm\n",
        "* Used to find the distance between single source node and all other other nodes.\n",
        "* Shortest path cannot be found if there is a -ve CYCLE.\n",
        "* Disadvantage : Time complexity is higher than Dijkstras ALgo T(C)= VLogV / ELogE\n",
        "* Advantage : Can be used for graph with negative cycle\n",
        "\n",
        "Algorithm :\n",
        "\n",
        "1. Create Edge list(u,v,wt)\n",
        "2. Create dist[] & parent[]\n",
        "3. For V-1 times :\n",
        "      for u,v in edglist:\n",
        "        Relax(u,v) \n",
        "4. for u,v in edgelist:\n",
        "        Relax_final(u,v)  \n",
        "\n",
        "Relax(u,v):\n",
        "  if dist[v] > dist[u]+wt(u,v):\n",
        "    dist[v] = dist[u]+wt(u,v)\n",
        "    parent[v]=u\n",
        "\n",
        "Relax_final(u,v):\n",
        "  if dist[v] > dist[u]+wt(u,v)\n",
        "    =>negative CYCLE\n",
        "\n",
        "Questions: \n",
        "* Why we loop V-1 times ? Any node can be traversed in max V-1 time(tree property). \n",
        "* Why we do Vth relaxation ? To find negative CYCLE. If the dist[v] decreses on this iteration there is a -edge, shortest path cannot be found.\n",
        "\n",
        "References:\n",
        "* https://en.wikipedia.org/wiki/Bellman%E2%80%93Ford_algorithm\n",
        "* https://www.youtube.com/watch?v=-mOEd_3gTK0\n",
        "* https://www.geeksforgeeks.org/bellman-ford-algorithm-simple-implementation/\n",
        "* https://www.geeksforgeeks.org/bellman-ford-algorithm-dp-23/\n",
        "\n",
        "'''\n",
        "\n",
        "G={'A':[('B',-1),('C',4)],'B':[('C',3),('D',2),('E',2)],'C':[],'D':[('B',1),('C',5)],'E':[('D',-3)]}\n",
        "\n",
        "# Function to compute Single source shortest path using Bellman Ford\n",
        "def bellman_ford(G,src):\n",
        "\n",
        "  # Create edges list and create distance array, parent array for each node\n",
        "  edges=[]\n",
        "  dist={}\n",
        "  parent={}\n",
        "  for vertex in G:\n",
        "    dist[vertex]=999\n",
        "    parent[vertex]=0\n",
        "    for e in G[vertex]:\n",
        "      edges.append((vertex,e[0],e[1]))\n",
        "\n",
        "  # Initialize source distance as  0\n",
        "  dist[src]=0\n",
        "\n",
        "  # Repeat V-1 times, since by tree property it takes max V-1 times to reach any node \n",
        "  for vertex in range(len(G)-1):\n",
        "    for ed in edges:\n",
        "      # Relax(u,v)\n",
        "      u=ed[0]\n",
        "      v=ed[1]\n",
        "      wt=ed[2]\n",
        "\n",
        "      # if dist[v] > dist[u]+ edge(u,v) assign to dist[v]\n",
        "      if dist[v] > dist[u] + ed[2]:\n",
        "        dist[v]=dist[u]+ed[2]\n",
        "        parent[v]=u\n",
        "\n",
        "  # Relax_final to check for \n",
        "  for ed in edges:\n",
        "    u=ed[0]\n",
        "    v=ed[1]\n",
        "    wt=ed[2]\n",
        "\n",
        "    if dist[v] > dist[u]+wt:\n",
        "      print(\"Negative Cycle Found\")\n",
        "      break\n",
        "\n",
        "  print('parent graph :',parent,'\\nDistance graph:',dist)\n",
        "\n",
        "bellman_ford(G,'A')"
      ],
      "execution_count": null,
      "outputs": []
    },
    {
      "cell_type": "code",
      "metadata": {
        "id": "BDsTIQb4sf5z",
        "colab_type": "code",
        "colab": {}
      },
      "source": [
        "'''\n",
        "Dijkstras Algorithm\n",
        "\n",
        "* T(C) = O(ElogE)\n",
        "* Single source shortest path\n",
        "* Greedy Algorithm\n",
        "* Adv : Time comlexity better than bellman\n",
        "* Disadv : Fails for neg cycle\n",
        "\n",
        "Algorithm:\n",
        "\n",
        "1. Initialize parent[] & dist[] to inf\n",
        "2. Insert all nodes into binary heap(v,dist=inf) except heap(src,dist=0)\n",
        "3. start with visit[src]=0, dist[src]=0\n",
        "4. while binary heap is not empty:\n",
        "      4a. v =extract_min_dist(binary_heap)\n",
        "      4b. Add all adjacent vertices to heap with corresponding dist iff adj v is in heap and\n",
        "      4c. if dist[v] > dist[u]+adj_dist\n",
        "          update dist[v]\n",
        "          update parent[v]\n",
        "\n",
        "'''\n",
        "from collections import defaultdict \n",
        "import heapq\n",
        "\n",
        "class Graph():\n",
        "  def __init__(self, V): \n",
        "        self.size = V \n",
        "        self.graph = {}\n",
        "        self.edges=[]  \n",
        "  \n",
        "  def addEdge(self, src, dest, wt):\n",
        "    try:\n",
        "      self.graph[src].append((wt,dest))\n",
        "    except:\n",
        "      self.graph[src]=[]\n",
        "      self.graph[src].append((wt,dest))\n",
        "    try:\n",
        "      self.graph[dest].append((wt,src))\n",
        "    except:\n",
        "      self.graph[dest]=[]\n",
        "      self.graph[dest].append((wt,src))\n",
        "        \n",
        "def dijkstra(G,src):\n",
        "  print(G.graph)\n",
        "  parent=[0]*G.size\n",
        "  \n",
        "  dist=[999]*G.size\n",
        "  dist[src]=0\n",
        "  q=[]\n",
        "\n",
        "  for v in G.graph.keys():\n",
        "    if v==src:\n",
        "      heapq.heappush(q,(0,src))\n",
        "    else:\n",
        "      heapq.heappush(q,(999,v))\n",
        " \n",
        "  heapq.heapify(q)\n",
        "  inheap=[True]*G.size\n",
        "\n",
        "  while len(q) > 0:\n",
        "\n",
        "    # Extract min_dist node and remove from min heap\n",
        "    min_vertex=heapq.heappop(q)\n",
        "    u=min_vertex[1]\n",
        "    inheap[u]=False\n",
        "    #print(u)\n",
        "\n",
        "    # Find all adj nodes \n",
        "    for adj in G.graph[u]:\n",
        "      wt=adj[0]\n",
        "      node=adj[1]\n",
        "      print(u,node,wt)\n",
        "\n",
        "      # Update adj  new distance if present in heap & its dist is > than new dist\n",
        "      if inheap[node]==True and dist[node] > dist[u]+wt :\n",
        "        dist[node] = dist[u]+wt\n",
        "        parent[node]=u  \n",
        "        index=0\n",
        "        temp=adj\n",
        "\n",
        "        # Update adj node in minheap\n",
        "        for i in range(len(q)):\n",
        "          if q[i][1]==node:\n",
        "            index=i\n",
        "            break\n",
        "        del(q[index])\n",
        "        print(q)\n",
        "        q.append((dist[node],temp[1]))\n",
        "\n",
        "    heapq.heapify(q)\n",
        "        \n",
        "  print(dist)\n",
        "\n",
        "\n",
        "\n",
        "graph = Graph(9) \n",
        "\n",
        "graph.addEdge(0, 1, 4) \n",
        "graph.addEdge(0, 7, 8) \n",
        "graph.addEdge(1, 2, 8) \n",
        "graph.addEdge(1, 7, 11) \n",
        "graph.addEdge(2, 3, 7) \n",
        "graph.addEdge(2, 8, 2) \n",
        "graph.addEdge(2, 5, 4) \n",
        "graph.addEdge(3, 4, 9) \n",
        "graph.addEdge(3, 5, 14) \n",
        "graph.addEdge(4, 5, 10) \n",
        "graph.addEdge(5, 6, 2) \n",
        "graph.addEdge(6, 7, 1) \n",
        "graph.addEdge(6, 8, 6) \n",
        "graph.addEdge(7, 8, 7) \n",
        "#graph.dijkstra(0) \n",
        "\n",
        "dijkstra(graph,0)"
      ],
      "execution_count": null,
      "outputs": []
    },
    {
      "cell_type": "code",
      "metadata": {
        "id": "4jdKIGso1UZT",
        "colab_type": "code",
        "colab": {}
      },
      "source": [
        "'''\n",
        "Prims Algorithm\n",
        "\n",
        "* Works only on Undirected Connected graph\n",
        "* T(C)= ElogE\n",
        "* Greedy Algorithm \n",
        "\n",
        "Algorithm:\n",
        "1. create min_heap=[]\n",
        "2.\n",
        "\n",
        "References : https://www.programiz.com/dsa/prim-algorithm\n",
        "            https://www.geeksforgeeks.org/prims-minimum-spanning-tree-mst-greedy-algo-5/\n",
        "            \n",
        "'''\n",
        "import heapq\n",
        "#Function to find if node is in minheap\n",
        "def isthere(v,q):\n",
        "    for i in q:\n",
        "        if v==i[1]:\n",
        "            return True\n",
        "    return  False\n",
        "\n",
        "# implementation of Prims Algorithm\n",
        "def PRIMS(n,G,edges,src):\n",
        "    MST=[]\n",
        "    parent={i:0 for i in G}\n",
        "    dist={i:999 for i in G}\n",
        "\n",
        "    q=[]\n",
        "    for i in G:\n",
        "        if i==src:\n",
        "            heapq.heappush(q,[0,i])\n",
        "        else:\n",
        "            heapq.heappush(q,[dist[i],i])\n",
        "    \n",
        "    heapq.heapify(q)\n",
        "    dist[src]=0\n",
        "    parent[src]=src\n",
        "    total_cost=0\n",
        " \n",
        "    while q:\n",
        "        temp=heapq.heappop(q)\n",
        "        d=temp[0]\n",
        "        total_cost+=d\n",
        "        u=temp[1]\n",
        "        #print(u,dist)\n",
        "\n",
        "        for adj in G[u]:\n",
        "            #print(G[u])\n",
        "            v=adj[0]\n",
        "            wt=adj[1]\n",
        "\n",
        "            if isthere(v,q) and dist[v]>wt:\n",
        "                dist[v]=wt\n",
        "                parent[v]=u\n",
        "\n",
        "                for node in q:\n",
        "                    if node[1]==v:\n",
        "                        node[0]=dist[v]\n",
        "        heapq.heapify(q)\n",
        "    #print(q,dist) \n",
        "    print(total_cost)                   \n",
        "    return total_cost\n",
        "\n",
        "# create a undirected graph\n",
        "def create_graph(edges):\n",
        "  G={}\n",
        "  vertices={}\n",
        "\n",
        "  for e in edges:\n",
        "      u=e[0]\n",
        "      v=e[1]\n",
        "      wt=e[2]\n",
        "\n",
        "      vertices[u]=0\n",
        "      vertices[v]=0\n",
        "\n",
        "      try:\n",
        "          G[u].append([v,wt])\n",
        "      except:\n",
        "          G[u]=[]\n",
        "          G[u].append([v,wt])\n",
        "\n",
        "      try:\n",
        "          G[v].append([u,wt])\n",
        "      except:\n",
        "          G[v]=[]\n",
        "          G[v].append([u,wt])\n",
        "  return G\n",
        "\n",
        "edges=[[1, 2, 3],[1 ,3, 4],[4, 2, 6],[5, 2, 2],[2 ,3 ,5],[3 ,5 ,7]]\n",
        "G=create_graph(edges)\n",
        "PRIMS(len(G),G,edges,1)"
      ],
      "execution_count": null,
      "outputs": []
    },
    {
      "cell_type": "code",
      "metadata": {
        "id": "1m5XffoX1awe",
        "colab_type": "code",
        "colab": {}
      },
      "source": [
        "''' \n",
        "Kruskal's Algorithm\n",
        "\n",
        "* Greedy Algorithm\n",
        "* T(C) = O ElogE\n",
        "\n",
        "Algorithm:\n",
        "1. Sort all edges in increasing order\n",
        "2. Add edges until V-1 times:\n",
        "        use disjoint data structure to find cycle i. Naive Union-Find  ii. Union-Find by Rank \n",
        "    if cycle exits ignore edge\n",
        "        else add edge\n",
        "3. Continue with step 2 until there are V-1 edges in MST\n",
        "'''\n",
        "\n",
        "# Undirected Connected Graph\n",
        "edges=[]\n",
        "vertices=[]\n",
        "\n",
        "# Data Structure to add rank & parent to each vertices\n",
        "class Data:\n",
        "  def __init__(self,rank,parent):\n",
        "    self.rank=rank\n",
        "    self.parent=parent\n",
        "\n",
        "# path compression\n",
        "def find(Subset,v):\n",
        "  if Subset[v].parent==v:\n",
        "     Subset[v].parent=v\n",
        "  else:\n",
        "    Subset[v].parent =find(Subset,Subset[v].parent)\n",
        "  return Subset[v].parent\n",
        "\n",
        "# Union by Rank\n",
        "def union(Subset,u,y):\n",
        "  # Attach smaller rank tree to larger rank tree. If rank is equal attach to either and increase its rank\n",
        "  if Subset[u].rank > Subset[v].rank:\n",
        "    Subset[v].parent=u\n",
        "    return Subset\n",
        "\n",
        "  if Subset[u].rank < Subset[v].rank:\n",
        "    Subset[u].parent=v\n",
        "    return Subset  \n",
        "  else:\n",
        "    Subset[v].parent=u\n",
        "    Subset[u].rank+=1\n",
        "    return Subset\n",
        "\n",
        "# function implementing kruskal algorithm\n",
        "def kruskal(vertices_list,edges_list,Subset):\n",
        "  MST_edges=[]\n",
        "  MST_vertices=[]\n",
        "  \n",
        "  sorted_edges=sorted(edges_list,key=lambda x :x[2])\n",
        "  no_edges=len(sorted_edges)\n",
        "\n",
        "  i=0\n",
        "  e=0\n",
        "  while e< len(vertices_list)-1: # max edges in MST is V-1. The given graph can hav V2 edges however\n",
        "    v1=sorted_edges[i][0]\n",
        "    v2=sorted_edges[i][1]\n",
        "    w=sorted_edges[i][2]\n",
        "    i+=1\n",
        "    p1=find(Subset,v1)\n",
        "    p2=find(Subset,v2)\n",
        "    if p1!=p2:\n",
        "      Subset=union(Subset,p1,p2)\n",
        "      MST_edges.append((v1,v2,w))\n",
        "      e+=1  \n",
        "\n",
        "    print(MST_edges)\n",
        "  \n",
        "# Kruskal's algorithm in Python\n",
        "edges=[(0, 1, 4), (0, 2, 4),(1, 2, 2),(1, 0, 4),(2, 0, 4),(2, 1, 2),(2, 3, 3),(2, 5, 2),(2, 4, 4),(3, 2, 3),(3, 4, 3),(4, 2, 4),(4, 3, 3),\\\n",
        "(5, 2, 2),(5, 4, 3)]\n",
        "vertices={0:[],1:[],2:[],3:[],4:[],5:[]}\n",
        "\n",
        "# list of vertices mapped to (rank,parent)\n",
        "Subset={}\n",
        "for v in vertices:\n",
        "  Subset[v]=Data(0,v)\n",
        "\n",
        "# Call kruskal Algorithm\n",
        "kruskal(vertices,edges,Subset)"
      ],
      "execution_count": null,
      "outputs": []
    },
    {
      "cell_type": "code",
      "metadata": {
        "id": "LDABFnbuPJqe",
        "colab_type": "code",
        "colab": {}
      },
      "source": [
        "''' \n",
        "Union Find Algorithm I\n",
        "\n",
        "* T(C) = O(n) (worst case when graph is a skewed tree)\n",
        "* can be used to find a cycle in a undirected graph\n",
        "* Primarily used in Kruskals algo to find if the addition of a new edge forms a cycle\n",
        "'''\n",
        "\n",
        "def find(node,parent):\n",
        "  if parent[node]==-1:\n",
        "    return node\n",
        "  else:\n",
        "    return find(parent[node],parent)\n",
        "\n",
        "def union(node1,node2,parent):\n",
        "  parent[node1]=node2\n",
        "  return parent\n",
        "\n",
        "def iscycle(node1,node2,parent):\n",
        "  x=find(node1,parent)\n",
        "  y=find(node2,parent)\n",
        "\n",
        "  if x==y:\n",
        "    return 1,parent\n",
        "  else:\n",
        "    return 0,union(x,y,parent)\n",
        "\n",
        "def compute(G,parent):\n",
        "  val=0\n",
        "  for v in G:\n",
        "    for k in G[v]:\n",
        "      val,parent= iscycle(v,k,parent)\n",
        "      if val==1:\n",
        "        print(\"Cycle Detected\")\n",
        "        break  \n",
        "\n",
        "G={1:[2],2:[3],3:[4],4:[5],5:[]}\n",
        "parent= [-1]*(len(G)+1)\n",
        "compute(G,parent)\n",
        "\n",
        "'''\n",
        "Union by Rank Algorithm II (path Compression)\n",
        "\n",
        "* T(C) = O(Log n)\n",
        "* Naive union find taken O(n) time when graph is a skewed tree.\n",
        "Optimization :\n",
        "* Union by rank - attaches smaller depth tree to higher depth tree root during Union operation\n",
        "* path compression - attaches node to parent during find operation.\n",
        "\n",
        "'''\n",
        "# Path compression\n",
        "def find(Subset,v):\n",
        "  if Subset[v].parent!=v:\n",
        "    Subset[v].parent=find(Subset,Subset[v].parent)\n",
        "  return Subset[v].parent\n",
        "\n",
        "# Union by rank\n",
        "def union(Subset,u,v):\n",
        "  # attach small rank set to bigger rank set\n",
        "  if Subset[u].rank > Subset[v].rank:\n",
        "    Subset[v].parent=u\n",
        "\n",
        "  if Subset[u].rank < Subset[v].rank:\n",
        "    Subset[u].parent=v\n",
        "\n",
        "  if Subset[u].rank == Subset[v].rank:\n",
        "    Subset[v].parent=u\n",
        "    Subset[u].rank+=1\n",
        "  return Subset\n",
        "\n",
        "class Set:\n",
        "  def __init__(self,u,r):\n",
        "    self.parent=u\n",
        "    self.rank=r\n",
        "\n",
        "def compute_uf_(G):\n",
        "  Subset={}\n",
        "  for v in G:\n",
        "    Subset[v]=Set(v,0)\n",
        "\n",
        "  for v in G:\n",
        "    x=find(Subset,v)\n",
        "    for k in G[v]:\n",
        "      y=find(Subset,k)\n",
        "      print(v,x,k,y)\n",
        "      if x==y :\n",
        "        print(\"Cycle found\")\n",
        "        return\n",
        "      union(Subset,x,y)\n",
        "\n",
        "G={1:[2],2:[1,3],3:[4],4:[3,5],5:[4]}\n",
        "compute_uf_(G)"
      ],
      "execution_count": null,
      "outputs": []
    },
    {
      "cell_type": "code",
      "metadata": {
        "id": "MSmwB3_iZWbM",
        "colab_type": "code",
        "colab": {}
      },
      "source": [
        "'''\n",
        "Floyd Warshall\n",
        "\n",
        "'''"
      ],
      "execution_count": null,
      "outputs": []
    },
    {
      "cell_type": "code",
      "metadata": {
        "id": "fWD_TJxllHZ-",
        "colab_type": "code",
        "colab": {}
      },
      "source": [
        "'''\n",
        "Jhonson's Algorithm\n",
        "'''"
      ],
      "execution_count": null,
      "outputs": []
    },
    {
      "cell_type": "markdown",
      "metadata": {
        "id": "09Qhepq-iwob",
        "colab_type": "text"
      },
      "source": [
        "# **Traversals**\n",
        "\n",
        "* BFS\n",
        "* DFS\n",
        "* Beam Search\n",
        "* A*\n",
        "* Informed Search/Best First Search"
      ]
    },
    {
      "cell_type": "code",
      "metadata": {
        "id": "sHgQbhdjgN5n",
        "colab_type": "code",
        "colab": {}
      },
      "source": [
        ""
      ],
      "execution_count": null,
      "outputs": []
    },
    {
      "cell_type": "code",
      "metadata": {
        "id": "ePzNWGf2gOVX",
        "colab_type": "code",
        "colab": {}
      },
      "source": [
        ""
      ],
      "execution_count": null,
      "outputs": []
    },
    {
      "cell_type": "code",
      "metadata": {
        "id": "_Vevj_oMih53",
        "colab_type": "code",
        "colab": {}
      },
      "source": [
        "'''\n",
        "A* Algorithm\n",
        "\n",
        "'''\n",
        "def Astar():\n",
        "  # implementation of Astar Algorithm\n",
        "  pass\n",
        "\n"
      ],
      "execution_count": null,
      "outputs": []
    },
    {
      "cell_type": "code",
      "metadata": {
        "id": "O1LCYjIAn6fb",
        "colab_type": "code",
        "colab": {}
      },
      "source": [
        "\"\"\" \n",
        "Informed Search\n",
        "\"\"\""
      ],
      "execution_count": null,
      "outputs": []
    },
    {
      "cell_type": "code",
      "metadata": {
        "id": "EgVe5h-vq0Y0",
        "colab_type": "code",
        "colab": {}
      },
      "source": [
        ""
      ],
      "execution_count": null,
      "outputs": []
    },
    {
      "cell_type": "markdown",
      "metadata": {
        "id": "xWmJs4Yai3hw",
        "colab_type": "text"
      },
      "source": [
        "# **Distance Measures**"
      ]
    },
    {
      "cell_type": "code",
      "metadata": {
        "id": "E0Tzx9P0hBui",
        "colab_type": "code",
        "colab": {}
      },
      "source": [
        "'''\n",
        "\n",
        "\n",
        "barycenter(G[, weight, attr, sp]) Calculate barycenter of a connected graph, optionally with edge weights.\n",
        "center(G[, e, usebounds]) Returns the center of the graph G.\n",
        "Diameter : the diameter of a graph is the maximum distance between pair of vertices in a graph. Also called Eccentricity.\n",
        "Center of a graph : The node whose diameter/eccentricity is minimum.\n",
        "extrema_bounding(G[, compute]) Compute requested extreme distance metric of undirected graph G\n",
        "periphery(G[, e, usebounds]) Returns the periphery of the graph G.\n",
        "radius(G[, e, usebounds]) Returns the radius of the graph G.\n",
        "resistance_distance(G, nodeA, nodeB[, …]) Returns the resistance distance between node A and node B on graph G.\n",
        "Network Denisty :The number of edges a graph has. Complete graph has ND=1, Empty graph has ND=0.\n",
        "\n",
        "References:\n",
        "* https://www.geeksforgeeks.org/graph-measurements-length-distance-diameter-eccentricity-radius-center/\n",
        "* https://www.tutorialspoint.com/graph_theory/graph_theory_basic_properties.htm\n",
        "'''"
      ],
      "execution_count": null,
      "outputs": []
    },
    {
      "cell_type": "markdown",
      "metadata": {
        "id": "wyAdxZbNjNlZ",
        "colab_type": "text"
      },
      "source": [
        "# **Similarity Measures**"
      ]
    },
    {
      "cell_type": "code",
      "metadata": {
        "id": "dZsuERQgjYF2",
        "colab_type": "code",
        "colab": {}
      },
      "source": [
        "'''\n",
        "graph_edit_distance(G1, G2[, node_match, …])\n",
        "\n",
        "Returns GED (graph edit distance) between graphs G1 and G2.\n",
        "\n",
        "optimal_edit_paths(G1, G2[, node_match, …])\n",
        "\n",
        "Returns all minimum-cost edit paths transforming G1 to G2.\n",
        "\n",
        "optimize_graph_edit_distance(G1, G2[, …])\n",
        "\n",
        "Returns consecutive approximations of GED (graph edit distance) between graphs G1 and G2.\n",
        "\n",
        "optimize_edit_paths(G1, G2[, node_match, …])\n",
        "\n",
        "GED (graph edit distance) calculation: advanced interface.\n",
        "\n",
        "simrank_similarity(G[, source, target, …])\n",
        "\n",
        "Returns the SimRank similarity of nodes in the graph G.\n",
        "\n",
        "simrank_similarity_numpy(G[, source, …])\n",
        "\n",
        "Calculate SimRank of nodes in G using matrices with numpy.'''"
      ],
      "execution_count": null,
      "outputs": []
    },
    {
      "cell_type": "markdown",
      "metadata": {
        "id": "9QxQWSJWkcdg",
        "colab_type": "text"
      },
      "source": [
        "# Centrality\n",
        "\n",
        "#### References\n",
        " * [Betweeness](https://www.analyticsvidhya.com/blog/2018/04/introduction-to-graph-theory-network-analysis-python-codes/)\n",
        " * [Closeness](https://en.wikipedia.org/wiki/Closeness_centrality)"
      ]
    },
    {
      "cell_type": "code",
      "metadata": {
        "id": "UluFM6lpwogb",
        "colab_type": "code",
        "colab": {}
      },
      "source": [
        "'''\n",
        " Closeness Centrality\n",
        "\n",
        "* Closeness centrality measures the inverse distance between the node and all other nodes. \n",
        "It is defined as the reciprocal (sum/avg of distance between the node and all other nodes)\n",
        "For disconnected graphs : sum of (reciprocal of distances between the node and all other nodes)\n",
        "* Its the average of the shortest path from the node to all other nodes.\n",
        "\n",
        "# \n",
        "\n",
        "'''\n",
        "\n"
      ],
      "execution_count": null,
      "outputs": []
    },
    {
      "cell_type": "code",
      "metadata": {
        "id": "7S7rZm4tD6_p",
        "colab_type": "code",
        "colab": {}
      },
      "source": [
        "'''\n",
        "Betweeness Centrality:\n",
        "* The number of times a node occurs between shortest path of all other nodes.\n",
        "\n",
        "References:\n",
        "* https://www.analyticsvidhya.com/blog/2018/04/introduction-to-graph-theory-network-analysis-python-codes/\n",
        "\n",
        "\n",
        "'''"
      ],
      "execution_count": null,
      "outputs": []
    },
    {
      "cell_type": "code",
      "metadata": {
        "id": "yuwLtf91Q1mt",
        "colab_type": "code",
        "colab": {}
      },
      "source": [
        "'''\n",
        "Stress Centrality:\n",
        "* The average number of shortest paths passing through the node.\n",
        "\n",
        "References:\n",
        "https://journals.plos.org/plosone/article?id=10.1371/journal.pone.0200091\n",
        "'''"
      ],
      "execution_count": null,
      "outputs": []
    },
    {
      "cell_type": "markdown",
      "metadata": {
        "id": "Sr_-0SOelERS",
        "colab_type": "text"
      },
      "source": [
        "# Connectivity"
      ]
    },
    {
      "cell_type": "code",
      "metadata": {
        "id": "y4zOwbrOZOZk",
        "colab_type": "code",
        "colab": {}
      },
      "source": [
        "'''\n",
        "Kosraju Algorithm :\n",
        "Strongly connected graph: (Directed)\n",
        "* this applies to directed graph. \n",
        "References :\n",
        "* https://www.geeksforgeeks.org/connectivity-in-a-directed-graph/\n",
        "'''"
      ],
      "execution_count": null,
      "outputs": []
    },
    {
      "cell_type": "code",
      "metadata": {
        "id": "e6O7qx8Jj9Mm",
        "colab_type": "code",
        "colab": {}
      },
      "source": [
        ""
      ],
      "execution_count": null,
      "outputs": []
    },
    {
      "cell_type": "markdown",
      "metadata": {
        "id": "PyvJi-aoj5YS",
        "colab_type": "text"
      },
      "source": [
        "#Coloring"
      ]
    },
    {
      "cell_type": "markdown",
      "metadata": {
        "id": "IpspoZb1jxlr",
        "colab_type": "text"
      },
      "source": [
        "# **Link analysis**"
      ]
    },
    {
      "cell_type": "markdown",
      "metadata": {
        "id": "rirfMd7ckgE9",
        "colab_type": "text"
      },
      "source": [
        "# Clustering"
      ]
    },
    {
      "cell_type": "code",
      "metadata": {
        "id": "iPW5U__vkhgn",
        "colab_type": "code",
        "colab": {}
      },
      "source": [
        "# DAG"
      ],
      "execution_count": null,
      "outputs": []
    },
    {
      "cell_type": "markdown",
      "metadata": {
        "id": "HFnvB7cZp4T-",
        "colab_type": "text"
      },
      "source": [
        ""
      ]
    },
    {
      "cell_type": "code",
      "metadata": {
        "id": "Gk86k_Ljp39d",
        "colab_type": "code",
        "colab": {}
      },
      "source": [
        ""
      ],
      "execution_count": null,
      "outputs": []
    },
    {
      "cell_type": "markdown",
      "metadata": {
        "id": "lqJ12mMApwzV",
        "colab_type": "text"
      },
      "source": [
        "# **PageRank**"
      ]
    },
    {
      "cell_type": "code",
      "metadata": {
        "id": "1Q8Ct3EcpwRw",
        "colab_type": "code",
        "colab": {
          "base_uri": "https://localhost:8080/",
          "height": 35
        },
        "outputId": "68ff5398-e4d8-4bc4-cecf-c339a8c1ea52"
      },
      "source": [
        "\"\"\"\n",
        "Pagerank Algorithm \n",
        "\n",
        "Algorithm:\n",
        "\n",
        "1. intialize all rank of pages to 1\n",
        "2. all out going edges will have ranks divided amongst themselves\n",
        "3. calculate rank of page by 0.85 + .15 *(summation of icoming pagerank)\n",
        "\n",
        "References: https://courses.cs.washington.edu/courses/cse373/17au/project3/project3-3.html\n",
        "\n",
        "\"\"\"\n",
        "graph={1:[2,3,4],4:[1],3:[1],2:[1]}\n",
        "outdegree= {n:len(graph[n]) for n in graph}\n",
        "\n",
        "old_rank={n:1/len(graph) for n in graph}\n",
        "new_rank={n:0 for n in graph}\n",
        "d=0.85\n",
        "i=0\n",
        "while i<100:\n",
        "  new_rank={n:0 for n in graph}\n",
        "\n",
        "  # For each node in the graph update its adj node\n",
        "  for node in graph:\n",
        "    # if the nodes has no outgoing edges update all nodes\n",
        "    if len(graph[node])==0:  \n",
        "      #print(node)      \n",
        "      for n in new_rank:\n",
        "        new_rank[n]=d* (old_rank[node]/len(graph[n]) )    \n",
        "    else:\n",
        "      for adj in graph[node]:\n",
        "        #print(node,adj)\n",
        "        # if there are outgoing edges\n",
        "        outdegree=len(graph[adj])\n",
        "        new_rank[node]+=d* (old_rank[adj]/outdegree)\n",
        "      new_rank[node]+=(1-d)/len(graph)\n",
        "  old_rank=new_rank\n",
        "  i+=1\n",
        "\n",
        "print(graph,new_rank)"
      ],
      "execution_count": null,
      "outputs": [
        {
          "output_type": "stream",
          "text": [
            "{1: [2, 3, 4], 4: [1], 3: [1], 2: [1]} {1: 0.47972970963372263, 4: 0.1734234301220924, 3: 0.1734234301220924, 2: 0.1734234301220924}\n"
          ],
          "name": "stdout"
        }
      ]
    },
    {
      "cell_type": "markdown",
      "metadata": {
        "id": "JYBwoRdhzbn6",
        "colab_type": "text"
      },
      "source": [
        ""
      ]
    },
    {
      "cell_type": "code",
      "metadata": {
        "id": "iUwtk6oXFgO5",
        "colab_type": "code",
        "colab": {}
      },
      "source": [
        "\"\"\"\n",
        "Topological Sort\n",
        "\n",
        "* T(C) = O(V+E)\n",
        "* Method 1 : DFS + Stack  | Method 2 : Kahns Algorithm\n",
        "* Topological sort  is applicable only for DAG, cycles cannot exist.\n",
        "\"\"\"\n",
        "G={5:[2,0],4:[0,1],2:[3],3:[1],1:[],0:[]}\n",
        "\n",
        "# Method 1 : DFS + Stack\n",
        "\n",
        "# sub utility function for topological sort\n",
        "def DFS(G,node,stack,visit):\n",
        "  print(node)\n",
        "  visit[node]=1\n",
        "  for adj in G[node]:    \n",
        "    if visit[node]==1:\n",
        "      continue\n",
        "    stack,visit=utils(G,adj,stack,visit)\n",
        "  stack.append(node)\n",
        "  return stack,visit\n",
        "\n",
        "# topological sort\n",
        "def topologicalSort(G,size):\n",
        "  \n",
        "  visit={i:0 for i in range(len(G)+1) }\n",
        "  print(visit)\n",
        "  stack=[]\n",
        "\n",
        "  for node in G:    \n",
        "    if visit[node]==1:\n",
        "      continue\n",
        "    stack,visit=DFS(G,node,stack,visit)\n",
        "  print(stack)\n",
        "  \n",
        "#topologicalSort(G,len(G))\n",
        "\n",
        "# Method 2 : Kahn's algorithm\n",
        "def Kahns(G,size):\n",
        "  # 1. Create indegree array\n",
        "  indegree=[0]*size\n",
        "\n",
        "  for i in G :\n",
        "    for adj in G[i]:\n",
        "      indegree[adj]+=1\n",
        "\n",
        "  # 2. Append all indegree with value equal too 0 in q\n",
        "  q=[]\n",
        "  for i in range(len(indegree)):\n",
        "    if indegree[i]==0:\n",
        "      q.append(i)\n",
        "    \n",
        "  # 3. Until q is empty traverse adj nodes and decrease indegree.\n",
        "  while len(q)>0:\n",
        "    u=q.pop(0)\n",
        "    print(u,q)\n",
        "    for adj in G[u]:\n",
        "      indegree[adj]-=1\n",
        "      if indegree[adj]==0:\n",
        "        q.append(adj)\n",
        "      \n",
        "#Kahns(G,len(G))"
      ],
      "execution_count": null,
      "outputs": []
    },
    {
      "cell_type": "markdown",
      "metadata": {
        "id": "PwD2Kvp22s5d",
        "colab_type": "text"
      },
      "source": [
        "# <c>PROBLEMS</c>\n",
        "\n",
        "* Detect Cycle in a graph\n",
        "* "
      ]
    },
    {
      "cell_type": "code",
      "metadata": {
        "id": "uBsAFb05zdlj",
        "colab_type": "code",
        "colab": {}
      },
      "source": [
        "''''\n",
        "Detect Cycle in a graph \n",
        "\n",
        "Method 1 : Use visit dictionary\n",
        "Method 2 : Union Find algorithm\n",
        "'''\n",
        "\n",
        "\n"
      ],
      "execution_count": null,
      "outputs": []
    },
    {
      "cell_type": "code",
      "metadata": {
        "id": "YHIua2JnSbwP",
        "colab_type": "code",
        "colab": {}
      },
      "source": [
        ""
      ],
      "execution_count": null,
      "outputs": []
    }
  ]
}