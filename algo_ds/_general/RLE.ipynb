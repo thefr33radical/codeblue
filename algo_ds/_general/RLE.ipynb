{
  "nbformat": 4,
  "nbformat_minor": 0,
  "metadata": {
    "colab": {
      "name": "RLE.ipynb",
      "version": "0.3.2",
      "provenance": [],
      "include_colab_link": true
    },
    "kernelspec": {
      "name": "python3",
      "display_name": "Python 3"
    }
  },
  "cells": [
    {
      "cell_type": "markdown",
      "metadata": {
        "id": "view-in-github",
        "colab_type": "text"
      },
      "source": [
        "<a href=\"https://colab.research.google.com/github/thefr33radical/codeblue/blob/master/algo_ds/RLE.ipynb\" target=\"_parent\"><img src=\"https://colab.research.google.com/assets/colab-badge.svg\" alt=\"Open In Colab\"/></a>"
      ]
    },
    {
      "cell_type": "code",
      "metadata": {
        "id": "Lhz5j-U17mZu",
        "colab_type": "code",
        "colab": {
          "base_uri": "https://localhost:8080/",
          "height": 158
        },
        "outputId": "baa8a070-5972-41eb-f159-8f8a8178f800"
      },
      "source": [
        "def count_contagious(i,source):\n",
        "    start_index=i\n",
        "    end_index=i\n",
        "    count =1\n",
        "    while i <len(source)-1:\n",
        "        if source[i]==source[i+1]:\n",
        "            count+=1\n",
        "            i+=1\n",
        "        else:\n",
        "            end_index=i\n",
        "            return count,start_index,end_index\n",
        "    end_index=i     \n",
        "    return count,start_index,end_index\n",
        "    \n",
        "\n",
        "def encode(source):               \n",
        "        new_str=\"\"\n",
        "        i=0\n",
        "        while i <len(source)-1:\n",
        "            count=1\n",
        "            if source[i]==source[i+1]:               \n",
        "                count,start,end =count_contagious(i,source)\n",
        "                new_str+=source[start]+str(count)\n",
        "                i=end\n",
        "                i+=1\n",
        "               \n",
        "            else:               \n",
        "                new_str+=source[i]+str(count)\n",
        "                i+=1\n",
        "               \n",
        "        count=1        \n",
        "        if i == len(source)-1:\n",
        "            count=1\n",
        "            new_str+=source[i]+str(count)\n",
        "            i+=1\n",
        "            \n",
        "        return new_str\n",
        "\n",
        "source=input(\"\")\n",
        "print (encode(source))\n",
        "\n"
      ],
      "execution_count": 19,
      "outputs": [
        {
          "output_type": "stream",
          "text": [
            "front a3 2\n",
            "front a3b2 4\n",
            "front a3b2c2 6\n",
            "front a3b2c2a3 9\n",
            "front a3b2c2a3d2 11\n",
            "front a3b2c2a3d2e2 13\n",
            "front a3b2c2a3d2e2f4 17\n"
          ],
          "name": "stdout"
        },
        {
          "output_type": "execute_result",
          "data": {
            "text/plain": [
              "'a3b2c2a3d2e2f4'"
            ]
          },
          "metadata": {
            "tags": []
          },
          "execution_count": 19
        }
      ]
    }
  ]
}