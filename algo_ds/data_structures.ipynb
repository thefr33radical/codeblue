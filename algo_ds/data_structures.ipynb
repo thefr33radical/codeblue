{
  "nbformat": 4,
  "nbformat_minor": 0,
  "metadata": {
    "colab": {
      "name": "data_structures.ipynb",
      "provenance": [],
      "authorship_tag": "ABX9TyOiQJTYXN4yW6p+rM5Rj2WH"
    },
    "kernelspec": {
      "name": "python3",
      "display_name": "Python 3"
    }
  },
  "cells": [
    {
      "cell_type": "markdown",
      "metadata": {
        "id": "7SDPO5Iqb5gJ"
      },
      "source": [
        "\n",
        "\n",
        "```\n",
        "* Trie\n",
        "* Suffix Tree\n",
        "* Skip List\n",
        "* Bloom Filter\n",
        "\n",
        "```\n",
        "\n"
      ]
    },
    {
      "cell_type": "code",
      "metadata": {
        "id": "8Q5uvtGWbxIU"
      },
      "source": [
        "# Trie\n",
        "\n",
        "name_list=[\"prefix\",\"cc\",\"pre\",\"abc\",\"pqr\"]\n",
        "class Trie:\n",
        "  def __init__(self):\n",
        "    self.c={}\n",
        "    self.last=False\n",
        "\n",
        "# insert name into Trie\n",
        "def tinsert(name,obj):\n",
        "  node=obj\n",
        "  l=0\n",
        "\n",
        "  while l<len(name):\n",
        "    \n",
        "    if name[l] in node.c:\n",
        "      node=node.c[name[l]]\n",
        "      l+=1\n",
        "    \n",
        "    else:\n",
        "      temp=Trie()\n",
        "      node.c[name[l]]=temp\n",
        "      node=node.c[name[l]]\n",
        "      l+=1\n",
        "      if l==len(name):\n",
        "        temp.last=True\n",
        "  return obj\n",
        "\n",
        "# Search string in Trie\n",
        "def tsearch(name,obj):\n",
        "  node=obj\n",
        "  l=0\n",
        "  while l<len(name):\n",
        "    print(l,node.c)\n",
        "    if name[l] in node.c:\n",
        "      \n",
        "      node=node.c[name[l]]\n",
        "      l+=1\n",
        "      if l==len(name):\n",
        "        return True\n",
        "    else:\n",
        "      return False\n",
        "\n",
        "def compute():\n",
        "  obj=Trie()\n",
        "\n",
        "  for i in name_list:\n",
        "    obj=tinsert(i,obj)\n",
        "\n",
        "  for i in name_list:\n",
        "    print(tsearch(i,obj))\n",
        "\n",
        "\n",
        "\n",
        "compute()"
      ],
      "execution_count": null,
      "outputs": []
    },
    {
      "cell_type": "code",
      "metadata": {
        "id": "ZACIvfUDjiNL"
      },
      "source": [
        "# Suffix Tree"
      ],
      "execution_count": null,
      "outputs": []
    },
    {
      "cell_type": "code",
      "metadata": {
        "id": "X6UzIJlUjnx-"
      },
      "source": [
        "# Bloom Filter"
      ],
      "execution_count": null,
      "outputs": []
    },
    {
      "cell_type": "code",
      "metadata": {
        "id": "TqRDzGDhjtV7"
      },
      "source": [
        "# Skip List"
      ],
      "execution_count": null,
      "outputs": []
    }
  ]
}