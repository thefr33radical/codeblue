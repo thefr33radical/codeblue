{
  "nbformat": 4,
  "nbformat_minor": 0,
  "metadata": {
    "colab": {
      "name": "DP_problems",
      "provenance": [],
      "authorship_tag": "ABX9TyPV19BPAuqIlDKc+UsRhXUY",
      "include_colab_link": true
    },
    "kernelspec": {
      "name": "python3",
      "display_name": "Python 3"
    }
  },
  "cells": [
    {
      "cell_type": "markdown",
      "metadata": {
        "id": "view-in-github",
        "colab_type": "text"
      },
      "source": [
        "<a href=\"https://colab.research.google.com/github/thefr33radical/codeblue/blob/master/algo_ds/dynamic_programming/DP_problems.ipynb\" target=\"_parent\"><img src=\"https://colab.research.google.com/assets/colab-badge.svg\" alt=\"Open In Colab\"/></a>"
      ]
    },
    {
      "cell_type": "code",
      "metadata": {
        "colab": {
          "base_uri": "https://localhost:8080/"
        },
        "id": "1ypi8162zmrw",
        "outputId": "744cbebd-b56c-4216-eb56-dbbdc68e2297"
      },
      "source": [
        "# Kadane Algorithm :  Maximum contagious sum\n",
        "# T(C)= O(n) / S(C)=O(n)\n",
        "# Link : https://hackernoon.com/kadanes-algorithm-explained-50316f4fd8a6\n",
        "\n",
        "data =[-2, -3, 4, -1, -2, 1, 5, -3]\n",
        "\n",
        "def naive_contagious_sum(data):\n",
        "  total=0\n",
        "  max_total=-999\n",
        "  index_s=0\n",
        "  index_e=0\n",
        "\n",
        "  for window in range(len(data),0,-1):\n",
        "    start=0\n",
        "    end=start+window\n",
        "    while end <len(data):\n",
        "    \n",
        "      total=sum(data[start:end])\n",
        "\n",
        "      if total > max_total:\n",
        "        max_total=total\n",
        "        index_s=start\n",
        "        index_e=end-1\n",
        "\n",
        "      start+=1\n",
        "      end+=1\n",
        "  print(max_total,index_s,index_e)\n",
        "\n",
        "def kadane(data):\n",
        "  start_index=0\n",
        "  end_index=0\n",
        "  cur_total=0\n",
        "  total=0\n",
        "\n",
        "\n",
        "  for i in range(len(data)):\n",
        "    cur_total+=data[i]\n",
        "    if cur_total <0 :\n",
        "      cur_total=0\n",
        "      start_index=i+1\n",
        "\n",
        "    if cur_total > total:\n",
        "      total=cur_total\n",
        "      end_index=i\n",
        "\n",
        "  print(\"start index :\",start_index,\"end index :\", end_index,\"total :\",total)\n",
        "\n",
        "#naive_contagious_sum(data)\n",
        "kadane(data)"
      ],
      "execution_count": 1,
      "outputs": [
        {
          "output_type": "stream",
          "text": [
            "start index : 2 end index : 6 total : 7\n"
          ],
          "name": "stdout"
        }
      ]
    }
  ]
}