{
  "nbformat": 4,
  "nbformat_minor": 0,
  "metadata": {
    "colab": {
      "name": "DP_problems",
      "provenance": [],
      "authorship_tag": "ABX9TyMDx/ouuNHnmMqnFygZ8aMo",
      "include_colab_link": true
    },
    "kernelspec": {
      "name": "python3",
      "display_name": "Python 3"
    }
  },
  "cells": [
    {
      "cell_type": "markdown",
      "metadata": {
        "id": "view-in-github",
        "colab_type": "text"
      },
      "source": [
        "<a href=\"https://colab.research.google.com/github/thefr33radical/codeblue/blob/master/algo_ds/dynamic_programming/DP_problems.ipynb\" target=\"_parent\"><img src=\"https://colab.research.google.com/assets/colab-badge.svg\" alt=\"Open In Colab\"/></a>"
      ]
    },
    {
      "cell_type": "code",
      "metadata": {
        "colab": {
          "base_uri": "https://localhost:8080/"
        },
        "id": "1ypi8162zmrw",
        "outputId": "744cbebd-b56c-4216-eb56-dbbdc68e2297"
      },
      "source": [
        "# Kadane Algorithm :  Maximum contagious sum\n",
        "# T(C)= O(n) / S(C)=O(n)\n",
        "# Link : https://hackernoon.com/kadanes-algorithm-explained-50316f4fd8a6\n",
        "\n",
        "data =[-2, -3, 4, -1, -2, 1, 5, -3]\n",
        "\n",
        "def naive_contagious_sum(data):\n",
        "  total=0\n",
        "  max_total=-999\n",
        "  index_s=0\n",
        "  index_e=0\n",
        "\n",
        "  for window in range(len(data),0,-1):\n",
        "    start=0\n",
        "    end=start+window\n",
        "    while end <len(data):\n",
        "    \n",
        "      total=sum(data[start:end])\n",
        "\n",
        "      if total > max_total:\n",
        "        max_total=total\n",
        "        index_s=start\n",
        "        index_e=end-1\n",
        "\n",
        "      start+=1\n",
        "      end+=1\n",
        "  print(max_total,index_s,index_e)\n",
        "\n",
        "def kadane(data):\n",
        "  start_index=0\n",
        "  end_index=0\n",
        "  cur_total=0\n",
        "  total=0\n",
        "\n",
        "\n",
        "  for i in range(len(data)):\n",
        "    cur_total+=data[i]\n",
        "    if cur_total <0 :\n",
        "      cur_total=0\n",
        "      start_index=i+1\n",
        "\n",
        "    if cur_total > total:\n",
        "      total=cur_total\n",
        "      end_index=i\n",
        "\n",
        "  print(\"start index :\",start_index,\"end index :\", end_index,\"total :\",total)\n",
        "\n",
        "#naive_contagious_sum(data)\n",
        "kadane(data)"
      ],
      "execution_count": 1,
      "outputs": [
        {
          "output_type": "stream",
          "text": [
            "start index : 2 end index : 6 total : 7\n"
          ],
          "name": "stdout"
        }
      ]
    },
    {
      "cell_type": "code",
      "metadata": {
        "colab": {
          "base_uri": "https://localhost:8080/"
        },
        "id": "N8CYsE4M2sPC",
        "outputId": "2e95dddc-0fde-4662-fe32-90bb53f7fced"
      },
      "source": [
        "# maximum contagious sum array - Kadane\n",
        "#T(C)/S(C) = O(n)\n",
        "# maximum sum rectangle\n",
        "# T(C) = O(col X col x kadane(O(n))\n",
        "\n",
        "def kadane(arr):\n",
        "  index_start=index_end=0\n",
        "  total_max=cur_max=temp=0\n",
        "\n",
        "  karr=[0]*len(arr)\n",
        "  for i in range(0,len(arr)):\n",
        "    cur_max+=arr[i]\n",
        "    if cur_max < 0:\n",
        "      cur_max=0\n",
        "      temp=i+1\n",
        "    if cur_max > total_max:\n",
        "      total_max=cur_max\n",
        "      start_index=temp\n",
        "      end_index=i\n",
        "  return start_index,end_index,total_max\n",
        "\n",
        "def MaxSumRectange(matrix):\n",
        "  krow=[0]*len(matrix)\n",
        "  top=left=bottom=right=cur_max=total_max=0\n",
        "  for i in range(0,len(matrix[0])):\n",
        "    krow=[0]*len(matrix)\n",
        "    for j in range(i,len(matrix[0])):\n",
        "      temp=[ row[j] for row in matrix]\n",
        "      #print(temp)\n",
        "      krow=list(map(sum,zip(krow,temp)))\n",
        "      #print(krow)\n",
        "      t,b,cur_max=kadane(krow)\n",
        "\n",
        "      if cur_max > total_max:\n",
        "        left=i\n",
        "        right=j\n",
        "        top=t\n",
        "        bottom=b\n",
        "        total_max=cur_max\n",
        "  return top,left,bottom,right,total_max\n",
        "\n",
        "MaxSumRectange(arr)\n",
        "arr = [ [1,   2, -1, -4, -20],\n",
        "        [-8, -3, 4,   2,  1 ],\n",
        "        [3,   8, 10,  1,  3 ],\n",
        "        [-4, -1, 1,   7,  -6 ] ]\n",
        "print(MaxSumRectange(arr))"
      ],
      "execution_count": 35,
      "outputs": [
        {
          "output_type": "stream",
          "text": [
            "(1, 1, 3, 3, 29)\n"
          ],
          "name": "stdout"
        }
      ]
    }
  ]
}