{
  "nbformat": 4,
  "nbformat_minor": 0,
  "metadata": {
    "colab": {
      "provenance": [],
      "authorship_tag": "ABX9TyMBSTALkZjmHmrSUhleyd6L",
      "include_colab_link": true
    },
    "kernelspec": {
      "name": "python3",
      "display_name": "Python 3"
    },
    "language_info": {
      "name": "python"
    }
  },
  "cells": [
    {
      "cell_type": "markdown",
      "metadata": {
        "id": "view-in-github",
        "colab_type": "text"
      },
      "source": [
        "<a href=\"https://colab.research.google.com/github/thefr33radical/codeblue/blob/master/system-design/Iterator.ipynb\" target=\"_parent\"><img src=\"https://colab.research.google.com/assets/colab-badge.svg\" alt=\"Open In Colab\"/></a>"
      ]
    },
    {
      "cell_type": "code",
      "execution_count": null,
      "metadata": {
        "id": "Pkfgi94w4jV2"
      },
      "outputs": [],
      "source": [
        "# Iterator design pattern\n",
        "\n",
        "class Iterator:\n",
        "    def __init__(self, data):\n",
        "        self.data = data\n",
        "        self.index = 0\n",
        "\n",
        "    def next(self):\n",
        "        if self.index < len(self.data):\n",
        "            self.index += 1\n",
        "            return self.data[self.index - 1]\n",
        "        else:\n",
        "            raise StopIteration\n",
        "\n",
        "class ConcreteIterator(Iterator):\n",
        "    def __init__(self, data):\n",
        "        super().__init__(data)\n",
        "\n",
        "    def next(self):\n",
        "        if self.index < len(self.data):\n",
        "            value = self.data[self.index]\n",
        "            self.index += 2\n",
        "            return value\n",
        "        else:\n",
        "            raise StopIteration\n",
        "\n",
        "class Aggregate:\n",
        "    def __init__(self, data):\n",
        "        self.data = data\n",
        "\n",
        "    def create_iterator(self):\n",
        "        return ConcreteIterator(self.data)\n",
        "\n",
        "# Usage\n",
        "data = [1, 2, 3, 4, 5]\n",
        "aggregate = Aggregate(data)\n",
        "iterator = aggregate.create_iterator()\n",
        "\n",
        "while True:\n",
        "    try:\n",
        "        item = iterator.next()\n",
        "        print(item)\n",
        "    except StopIteration:\n",
        "        break\n"
      ]
    }
  ]
}