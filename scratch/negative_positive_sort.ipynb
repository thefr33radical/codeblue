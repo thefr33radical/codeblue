{
  "nbformat": 4,
  "nbformat_minor": 0,
  "metadata": {
    "colab": {
      "name": "negative_positive_sort.ipynb",
      "provenance": [],
      "include_colab_link": true
    },
    "kernelspec": {
      "name": "python3",
      "display_name": "Python 3"
    }
  },
  "cells": [
    {
      "cell_type": "markdown",
      "metadata": {
        "id": "view-in-github",
        "colab_type": "text"
      },
      "source": [
        "<a href=\"https://colab.research.google.com/github/thefr33radical/codeblue/blob/master/practice/negative_positive_sort.ipynb\" target=\"_parent\"><img src=\"https://colab.research.google.com/assets/colab-badge.svg\" alt=\"Open In Colab\"/></a>"
      ]
    },
    {
      "cell_type": "markdown",
      "metadata": {
        "id": "vtP-5GlCa1wH",
        "colab_type": "text"
      },
      "source": [
        "# Sort negative numbers followed by positve number\n",
        "#### T(C) = O(n)\n"
      ]
    },
    {
      "cell_type": "code",
      "metadata": {
        "id": "Kgj4_fPlaw4U",
        "colab_type": "code",
        "colab": {
          "base_uri": "https://localhost:8080/",
          "height": 68
        },
        "outputId": "05897954-c86d-498e-e4d2-9bd9d2425475"
      },
      "source": [
        "\n",
        "\n",
        "arr = [-1, 2, -3, 4, 5,-2, 6, -7, 8, 9] \n",
        "\n",
        "\n",
        "def sort_(arr):\n",
        "  \n",
        "  n=len(arr)\n",
        "  \n",
        "  i=0\n",
        "  j=n-1\n",
        "  \n",
        "  #  loop until i and j index of array is reached\n",
        "  while i<j:\n",
        "    # Find index of first positve element from begining\n",
        "    while i<n and arr[i]<0:\n",
        "      i+=1\n",
        "    # Find index of last negative element from end\n",
        "    while j>0 and arr[j]>0:\n",
        "      j-=1\n",
        "      \n",
        "    if i<j:\n",
        "      print(\"swap\")\n",
        "      temp=arr[i]\n",
        "      arr[i]=arr[j]\n",
        "      arr[j]=temp\n",
        "    \n",
        "    \n",
        "    # Find index of last negative element from end\n",
        "        \n",
        "  return arr\n",
        "  \n",
        "sort_(arr)\n",
        "print(arr)\n",
        "      "
      ],
      "execution_count": 10,
      "outputs": [
        {
          "output_type": "stream",
          "text": [
            "swap\n",
            "swap\n",
            "[-1, -7, -3, -2, 5, 4, 6, 2, 8, 9]\n"
          ],
          "name": "stdout"
        }
      ]
    }
  ]
}