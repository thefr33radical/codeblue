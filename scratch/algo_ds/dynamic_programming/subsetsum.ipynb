{
  "nbformat": 4,
  "nbformat_minor": 0,
  "metadata": {
    "colab": {
      "name": "subsetsum.ipynb",
      "version": "0.3.2",
      "provenance": [],
      "collapsed_sections": [],
      "include_colab_link": true
    },
    "kernelspec": {
      "name": "python3",
      "display_name": "Python 3"
    }
  },
  "cells": [
    {
      "cell_type": "markdown",
      "metadata": {
        "id": "view-in-github",
        "colab_type": "text"
      },
      "source": [
        "<a href=\"https://colab.research.google.com/github/thefr33radical/codeblue/blob/master/algo_ds/dynamic_programming/subsetsum.ipynb\" target=\"_parent\"><img src=\"https://colab.research.google.com/assets/colab-badge.svg\" alt=\"Open In Colab\"/></a>"
      ]
    },
    {
      "cell_type": "markdown",
      "metadata": {
        "id": "Jsvzqc5bsMmX",
        "colab_type": "text"
      },
      "source": [
        "### SubsetSum\n",
        "#### References\n",
        "\n",
        "* https://www.geeksforgeeks.org/subset-sum-problem-dp-25/\n",
        "\n",
        "\n"
      ]
    },
    {
      "cell_type": "code",
      "metadata": {
        "id": "u61SOP2ssND0",
        "colab_type": "code",
        "colab": {}
      },
      "source": [
        "# Naive approach \n",
        "# T(C) = O(2^n)\n",
        "\n",
        "def subsetsum(_sum,_n,arr):\n",
        "  print(_sum,_n)\n",
        "  if _sum==0:\n",
        "    print(\"found\")\n",
        "    return 1\n",
        "  \n",
        "  if _n==0 and _sum!=0:\n",
        "    return 0\n",
        "  \n",
        "  return (subsetsum(_sum,_n-1,arr) | subsetsum(_sum-arr[_n-1],_n-1,arr))\n",
        "\n",
        "\n",
        "arr= [1,2,1,1]\n",
        "\n",
        "print(f\"subsetsum:{subsetsum(3,len(arr),arr)}\")\n"
      ],
      "execution_count": 0,
      "outputs": []
    },
    {
      "cell_type": "code",
      "metadata": {
        "id": "jCgJfedY1fLR",
        "colab_type": "code",
        "colab": {
          "base_uri": "https://localhost:8080/",
          "height": 68
        },
        "outputId": "870071e5-f05e-4ece-b536-d4877c91c5dd"
      },
      "source": [
        "# T(C) = O(length of arr X Sum_required)\n",
        "# S(C) = O(n X M)\n",
        "\n",
        "def subsetsum(arr,n,_sum):\n",
        "  \n",
        "  output= [ [False for j in range(_sum+1)] for i in range(n+1)]\n",
        "  \n",
        "  for i in range(n):\n",
        "    output[i][0]=True\n",
        "  \n",
        "  print(output)\n",
        "  \n",
        "  \n",
        "  for i in range(1,n+1):\n",
        "    for j in range(1,_sum+1):\n",
        "      \n",
        "      # left fork\n",
        "      if j<arr[i-1]:\n",
        "        output[i][j]= output[i-1][j]\n",
        "      \n",
        "      # Right Fork\n",
        "      if j>=arr[i-1]:\n",
        "        output[i][j] = output[i-1][j] | output[i-1][j-arr[i-1]]\n",
        "        \n",
        "  print(output)\n",
        "  return output[n][_sum]\n",
        "\n",
        "arr= [3,6,4,14]\n",
        "\n",
        "print(f\"subsetsum:{subsetsum(arr,len(arr),5)}\")\n"
      ],
      "execution_count": 18,
      "outputs": [
        {
          "output_type": "stream",
          "text": [
            "[[True, False, False, False, False, False], [True, False, False, False, False, False], [True, False, False, False, False, False], [True, False, False, False, False, False], [False, False, False, False, False, False]]\n",
            "[[True, False, False, False, False, False], [True, False, False, True, False, False], [True, False, False, True, False, False], [True, False, False, True, True, False], [False, False, False, True, True, False]]\n",
            "subsetsum:False\n"
          ],
          "name": "stdout"
        }
      ]
    }
  ]
}