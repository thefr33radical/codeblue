{
  "nbformat": 4,
  "nbformat_minor": 0,
  "metadata": {
    "colab": {
      "name": "text_wrap.ipynb",
      "version": "0.3.2",
      "provenance": [],
      "include_colab_link": true
    },
    "kernelspec": {
      "name": "python3",
      "display_name": "Python 3"
    }
  },
  "cells": [
    {
      "cell_type": "markdown",
      "metadata": {
        "id": "view-in-github",
        "colab_type": "text"
      },
      "source": [
        "<a href=\"https://colab.research.google.com/github/thefr33radical/codeblue/blob/master/algo_ds/text_wrap.ipynb\" target=\"_parent\"><img src=\"https://colab.research.google.com/assets/colab-badge.svg\" alt=\"Open In Colab\"/></a>"
      ]
    },
    {
      "metadata": {
        "id": "V8Tn9aqQVBw0",
        "colab_type": "text"
      },
      "cell_type": "markdown",
      "source": [
        "You are given a string  and width . \n",
        "Your task is to wrap the string into a paragraph of width .\n",
        "\n",
        "Input Format\n",
        "\n",
        "The first line contains a string, . \n",
        "The second line contains the width, .\n",
        "\n",
        "Constraints\n",
        "\n",
        "Output Format\n",
        "\n",
        "Print the text wrapped paragraph.\n",
        "\n",
        "Sample Input 0\n",
        "\n",
        "ABCDEFGHIJKLIMNOQRSTUVWXYZ\n",
        "4\n",
        "Sample Output 0\n",
        "\n",
        "ABCD\n",
        "EFGH\n",
        "IJKL\n",
        "IMNO\n",
        "QRST\n",
        "UVWX\n",
        "YZ\n",
        "\n",
        "T(O) = O(n2)"
      ]
    },
    {
      "metadata": {
        "id": "iA7Mgyz1VEAk",
        "colab_type": "code",
        "colab": {
          "base_uri": "https://localhost:8080/",
          "height": 136
        },
        "outputId": "87aee13d-5385-4ad4-e1ef-833f61960dd0"
      },
      "cell_type": "code",
      "source": [
        "def compute(text, wrap_length):\n",
        "  \"\"\"\n",
        "      Function to split the text according to the text wrap length\n",
        "  \"\"\"\n",
        "  count=0\n",
        "  str_arr=[]\n",
        "  temp=\"\"\n",
        "  i=0\n",
        "  while (i<len(text)):\n",
        "    if(count<wrap_length):\n",
        "      temp+=text[i]\n",
        "      count+=1\n",
        "      i+=1\n",
        "    else:\n",
        "      str_arr.append(temp)\n",
        "      temp=\"\"\n",
        "      count=0\n",
        "  str_arr.append(temp)\n",
        "  \n",
        "  for i in str_arr:\n",
        "    print(i)\n",
        "    \n",
        "def compute2(text,wrap_length):\n",
        "  return \"\\n\".join([     text[i:i+wrap_length] for i in range(0,len(text),wrap_length)   ])\n",
        "\n",
        "def compute3(text,wrap_length):\n",
        "  for i in range(0,len(text),wrap_length):\n",
        "    print(\"\\n\".join([text[i:i+wrap_length]]))\n",
        "\n",
        "  \n",
        "text=\"ABCDEFGHIJKLIMNOQRSTUVWXYZ\"\n",
        "num=4\n",
        "#print(compute2(text,num))\n",
        "compute3(text,num)\n",
        "      "
      ],
      "execution_count": 24,
      "outputs": [
        {
          "output_type": "stream",
          "text": [
            "ABCD\n",
            "EFGH\n",
            "IJKL\n",
            "IMNO\n",
            "QRST\n",
            "UVWX\n",
            "YZ\n"
          ],
          "name": "stdout"
        }
      ]
    }
  ]
}