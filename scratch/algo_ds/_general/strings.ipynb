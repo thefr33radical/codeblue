{
  "nbformat": 4,
  "nbformat_minor": 0,
  "metadata": {
    "colab": {
      "name": "strings.ipynb",
      "provenance": [],
      "authorship_tag": "ABX9TyPdsq4Y09RnaORzo4UpRn7a",
      "include_colab_link": true
    },
    "kernelspec": {
      "name": "python3",
      "display_name": "Python 3"
    }
  },
  "cells": [
    {
      "cell_type": "markdown",
      "metadata": {
        "id": "view-in-github",
        "colab_type": "text"
      },
      "source": [
        "<a href=\"https://colab.research.google.com/github/thefr33radical/codeblue/blob/master/algo_ds/strings.ipynb\" target=\"_parent\"><img src=\"https://colab.research.google.com/assets/colab-badge.svg\" alt=\"Open In Colab\"/></a>"
      ]
    },
    {
      "cell_type": "markdown",
      "metadata": {
        "id": "RvLb5jj9V4vx",
        "colab_type": "text"
      },
      "source": [
        "# KMP Algorithm\n",
        "\n"
      ]
    },
    {
      "cell_type": "code",
      "metadata": {
        "id": "zcRrk-T1V1FN",
        "colab_type": "code",
        "colab": {}
      },
      "source": [
        "\"\"\"\n",
        "KMP Algorithm:\n",
        "* T(C)= O(m+n)\n",
        "* S(C)= O(m)\n",
        "* Knuth-Morris-Pratt\n",
        "\"\"\"\n",
        "\n",
        "text=\"abcdabc\"\n",
        "pattern=\"axbc\"\n",
        "\n",
        "def preprocess_pattern(pattern):\n",
        "  \"\"\"\n",
        "  Function to generate pattern array indicies\n",
        "  \"\"\"\n",
        "  # Create pattern array\n",
        "  pat_arr=list(pattern)\n",
        "  store=[0]*len(pat_arr)\n",
        "  ind=0\n",
        "  i=1\n",
        "  # Iterate until end of pat_arr\n",
        "  while i <len(pat_arr):\n",
        "    # if there is charecter match\n",
        "    if pat_arr[ind]==pat_arr[i]:\n",
        "      store[i]=ind+1\n",
        "      i+=1\n",
        "      ind+=1\n",
        "    # if there is a charecter mismatch\n",
        "    else:\n",
        "      # if prefix exists till this point, move index\n",
        "      if ind!=0:\n",
        "        ind=store[ind-1]\n",
        "      # if prefix does not exist till this point, move i after store[i]=0\n",
        "      else:\n",
        "        store[i]=0\n",
        "        i+=1\n",
        "  return store\n",
        "\n",
        "def KMP(text,pattern):\n",
        "  \"\"\"\n",
        "  KMP algorithm to detect patterns\n",
        "  \"\"\"\n",
        "  store=preprocess_pattern(pattern)\n",
        "  print(store)\n",
        "  i=0\n",
        "  j=0\n",
        "  txt_arr=list(text)\n",
        "  pat_arr=list(pattern)\n",
        "  while i<len(txt_arr) and j<len(pat_arr):\n",
        "    # if there is a char match\n",
        "    if txt_arr[i]==pat_arr[j]:\n",
        "      i+=1\n",
        "      j+=1\n",
        "    #if there is no char match\n",
        "    else:\n",
        "      j=0\n",
        "      i+=1\n",
        "  if j==len(pattern):\n",
        "    print(\"found\")\n",
        "  else:\n",
        "    print(\"not found\")\n",
        "\n",
        "KMP(text,pattern)"
      ],
      "execution_count": null,
      "outputs": []
    }
  ]
}