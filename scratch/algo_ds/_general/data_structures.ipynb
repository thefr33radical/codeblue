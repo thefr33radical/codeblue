{
  "nbformat": 4,
  "nbformat_minor": 0,
  "metadata": {
    "colab": {
      "name": "data_structures.ipynb",
      "provenance": [],
      "authorship_tag": "ABX9TyPcSWNfzRnKicB1JjEuYFvA",
      "include_colab_link": true
    },
    "kernelspec": {
      "name": "python3",
      "display_name": "Python 3"
    }
  },
  "cells": [
    {
      "cell_type": "markdown",
      "metadata": {
        "id": "view-in-github",
        "colab_type": "text"
      },
      "source": [
        "<a href=\"https://colab.research.google.com/github/thefr33radical/codeblue/blob/master/algo_ds/data_structures.ipynb\" target=\"_parent\"><img src=\"https://colab.research.google.com/assets/colab-badge.svg\" alt=\"Open In Colab\"/></a>"
      ]
    },
    {
      "cell_type": "markdown",
      "metadata": {
        "id": "7SDPO5Iqb5gJ",
        "colab_type": "text"
      },
      "source": [
        "\n",
        "\n",
        "```\n",
        "* Trie\n",
        "* Suffix Tree\n",
        "* Skip List\n",
        "* Bloom Filter\n",
        "\n",
        "```\n",
        "\n"
      ]
    },
    {
      "cell_type": "code",
      "metadata": {
        "id": "8Q5uvtGWbxIU",
        "colab_type": "code",
        "colab": {}
      },
      "source": [
        "# Trie"
      ],
      "execution_count": null,
      "outputs": []
    },
    {
      "cell_type": "code",
      "metadata": {
        "id": "ZACIvfUDjiNL",
        "colab_type": "code",
        "colab": {}
      },
      "source": [
        "# Suffix Tree"
      ],
      "execution_count": null,
      "outputs": []
    },
    {
      "cell_type": "code",
      "metadata": {
        "id": "X6UzIJlUjnx-",
        "colab_type": "code",
        "colab": {}
      },
      "source": [
        "# Bloom Filter"
      ],
      "execution_count": null,
      "outputs": []
    },
    {
      "cell_type": "code",
      "metadata": {
        "id": "TqRDzGDhjtV7",
        "colab_type": "code",
        "colab": {}
      },
      "source": [
        "# Skip List"
      ],
      "execution_count": null,
      "outputs": []
    }
  ]
}