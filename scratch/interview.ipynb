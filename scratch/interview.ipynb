{
  "nbformat": 4,
  "nbformat_minor": 0,
  "metadata": {
    "colab": {
      "name": "interview.ipynb",
      "provenance": [],
      "authorship_tag": "ABX9TyOKFqLBsGbRk/UhzqFo8cmm"
    },
    "kernelspec": {
      "name": "python3",
      "display_name": "Python 3"
    }
  },
  "cells": [
    {
      "cell_type": "code",
      "metadata": {
        "id": "nKHqx0oPYUVw"
      },
      "source": [
        "# bloomberg\n",
        "#Find longest substring with unique  characters in O(n) time\n",
        "\n",
        "text=\"abaaabcdaaa\"\n",
        "\n",
        "def naive(text):\n",
        "  l=list(text)\n",
        "  #print(text)\n",
        "  dct={}\n",
        "  for i in l:\n",
        "    try:\n",
        "      dct[i]+=1\n",
        "      return False,text\n",
        "    except:\n",
        "      dct[i]=1\n",
        "  return True,text\n",
        "\n",
        "def compute():\n",
        "  start=0\n",
        "  end=len(text)-1\n",
        "  for window in range(len(text),1,-1):\n",
        "      \n",
        "      start=len(text)-window\n",
        "      end=window\n",
        "      while start < len(text) and end <len(text):\n",
        "        val,txt=naive(text)\n",
        "        if val:\n",
        "          print(val,txt)\n",
        "          return\n",
        "        start+=1\n",
        "        end+=1\n",
        "compute()\n"
      ],
      "execution_count": null,
      "outputs": []
    },
    {
      "cell_type": "code",
      "metadata": {
        "colab": {
          "base_uri": "https://localhost:8080/"
        },
        "id": "o0hV3miVpQSi",
        "outputId": "6a1fad4b-d767-43b3-fd74-8f5131974b28"
      },
      "source": [
        "name_list=[\"prefix\",\"predix\",\"pre\"]\n",
        "count=0\n",
        "prefix=\"pre\"\n",
        "for n in name_list:\n",
        "  if prefix in n and len(n) > len(prefix) and prefix[0]==n[0]:\n",
        "    count+=1\n",
        "\n",
        "print(count)\n",
        "\n",
        "\n",
        "\n",
        "def kmp_algorithm(str1,str2):\n",
        "  pass\n",
        "\n",
        "  \n"
      ],
      "execution_count": null,
      "outputs": [
        {
          "output_type": "stream",
          "text": [
            "2\n"
          ],
          "name": "stdout"
        }
      ]
    },
    {
      "cell_type": "code",
      "metadata": {
        "id": "IiQH5UtmDo4_"
      },
      "source": [
        "# Sort given list of strings alphabetically, lower case comes befor eupper case, \n",
        "# Numbers take precedence\n",
        "\n",
        "def sort_alphabet(arr):\n",
        "  new_arr=sorted(sorted(arr,reverse=True),key=str.lower)\n",
        "  return new_arr\n",
        "\n",
        "arr=[\"GOwtham\",\"Gowtham\",\"333\",\"11\"]\n",
        "print(sort_alphabet(arr))\n",
        "\n",
        "# custom sort using dictionary\n",
        "dct={}\n",
        "\n",
        "for i in range(97,124):\n",
        "  dct[chr(i)]=i\n",
        "  dct[str.upper(chr(i))]=i+0.5\n",
        "\n",
        "for i in range(0,11):\n",
        "  dct[str(i)]=0 \n",
        "#print(sorted(arr,key= lambda x :[dct[i] for i in x]))\n",
        "\n",
        "#custom sort using string\n",
        "s=\"\"\n",
        "for i in range(0,10):\n",
        "  s+=str(i)\n",
        "for i in range(97,124):\n",
        "  s+=chr(i)\n",
        "  s+=str.upper(chr(i))\n",
        "\n",
        "print(sorted(arr,key= lambda x :[s.index(i) for i in x]))"
      ],
      "execution_count": null,
      "outputs": []
    },
    {
      "cell_type": "code",
      "metadata": {
        "id": "ivM1Khp5auRW"
      },
      "source": [
        "(())"
      ],
      "execution_count": 6,
      "outputs": []
    }
  ]
}