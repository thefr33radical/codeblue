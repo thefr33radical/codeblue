{
  "nbformat": 4,
  "nbformat_minor": 0,
  "metadata": {
    "colab": {
      "name": "interview.ipynb",
      "provenance": [],
      "authorship_tag": "ABX9TyMbv2PB/IitDGz8dgOe91yV"
    },
    "kernelspec": {
      "name": "python3",
      "display_name": "Python 3"
    }
  },
  "cells": [
    {
      "cell_type": "code",
      "metadata": {
        "id": "nKHqx0oPYUVw"
      },
      "source": [
        "# bloomberg\n",
        "#Find longest substring with unique  characters in O(n) time\n",
        "\n",
        "text=\"abaaabcdaaa\"\n",
        "\n",
        "def naive(text):\n",
        "  l=list(text)\n",
        "  #print(text)\n",
        "  dct={}\n",
        "  for i in l:\n",
        "    try:\n",
        "      dct[i]+=1\n",
        "      return False,text\n",
        "    except:\n",
        "      dct[i]=1\n",
        "  return True,text\n",
        "\n",
        "def compute():\n",
        "  start=0\n",
        "  end=len(text)-1\n",
        "  for window in range(len(text),1,-1):\n",
        "      \n",
        "      start=len(text)-window\n",
        "      end=window\n",
        "      while start < len(text) and end <len(text):\n",
        "        val,txt=naive(text)\n",
        "        if val:\n",
        "          print(val,txt)\n",
        "          return\n",
        "        start+=1\n",
        "        end+=1\n",
        "compute()"
      ],
      "execution_count": null,
      "outputs": []
    },
    {
      "cell_type": "code",
      "metadata": {
        "id": "o0hV3miVpQSi"
      },
      "source": [
        "# count number of words in a list for which given word is prefix\n",
        "\n",
        "name_list=[\"prefix\",\"predix\",\"pre\"]\n",
        "count=0\n",
        "prefix=\"pre\"\n",
        "for n in name_list:\n",
        "  if prefix in n and len(n) > len(prefix) and prefix[0]==n[0]:\n",
        "    count+=1\n",
        "print(count)\n",
        "\n",
        "\n",
        "# modified KMp approach for optimal string matching\n",
        "def kmp_algorithm(str1,str2):\n",
        "  pass\n"
      ],
      "execution_count": null,
      "outputs": []
    },
    {
      "cell_type": "code",
      "metadata": {
        "id": "IiQH5UtmDo4_"
      },
      "source": [
        "# Sort given list of strings alphabetically, lower case comes befor eupper case, \n",
        "# Numbers take precedence\n",
        "\n",
        "def sort_alphabet(arr):\n",
        "  new_arr=sorted(sorted(arr,reverse=True),key=str.lower)\n",
        "  return new_arr\n",
        "\n",
        "arr=[\"GOwtham\",\"Gowtham\",\"333\",\"11\"]\n",
        "print(sort_alphabet(arr))\n",
        "\n",
        "# custom sort using dictionary\n",
        "dct={}\n",
        "\n",
        "for i in range(97,124):\n",
        "  dct[chr(i)]=i\n",
        "  dct[str.upper(chr(i))]=i+0.5\n",
        "\n",
        "for i in range(0,11):\n",
        "  dct[str(i)]=0 \n",
        "#print(sorted(arr,key= lambda x :[dct[i] for i in x]))\n",
        "\n",
        "#custom sort using string\n",
        "s=\"\"\n",
        "for i in range(0,10):\n",
        "  s+=str(i)\n",
        "for i in range(97,124):\n",
        "  s+=chr(i)\n",
        "  s+=str.upper(chr(i))\n",
        "\n",
        "print(sorted(arr,key= lambda x :[s.index(i) for i in x]))"
      ],
      "execution_count": null,
      "outputs": []
    },
    {
      "cell_type": "code",
      "metadata": {
        "id": "ivM1Khp5auRW",
        "colab": {
          "base_uri": "https://localhost:8080/"
        },
        "outputId": "b2990dc8-413a-47ed-9ad8-d51bb0e05c3a"
      },
      "source": [
        "#Given an array of numbers, find the largest non consecutive sum\n",
        "arr=[1,2,3,55,66,7,8,87]\n",
        "\n",
        "def non_consecutive_sum(arr,n,x=0):\n",
        "  if n==0:\n",
        "    return arr[0]\n",
        "  if n==1:\n",
        "    return arr[1]\n",
        "  if n< 0:\n",
        "    return 0\n",
        "  return max(arr[n]+non_consecutive_sum(arr,n-2,0),non_consecutive_sum(arr,n-1,0))\n",
        "\n",
        "print(non_consecutive_sum(arr,len(arr)-1,0))"
      ],
      "execution_count": null,
      "outputs": [
        {
          "output_type": "stream",
          "text": [
            "157\n"
          ],
          "name": "stdout"
        }
      ]
    },
    {
      "cell_type": "code",
      "metadata": {
        "id": "WYf-z-QB7awc",
        "colab": {
          "base_uri": "https://localhost:8080/"
        },
        "outputId": "1bb0a41a-78bd-49b6-b9cd-3b31b0d3c585"
      },
      "source": [
        "# find if the graph is cyclic - arcrid insurance\n",
        "a=[1,3,2,4,5]\n",
        "b=[4,1,3,2,1]\n",
        "\n",
        "#a=[1,2,3,4]\n",
        "#b=[2,3,4,1]\n",
        "\n",
        "class graph():\n",
        "  def __init__(self,v):\n",
        "    self.v=v\n",
        "    self.n={}\n",
        "\n",
        "  def add_edge(self,u,v):\n",
        "    if u in self.n:\n",
        "      self.n[u].append(v)\n",
        "    else:\n",
        "      self.n[u]=[]\n",
        "      self.n[u].append(v)\n",
        "\n",
        "    if v in self.n:\n",
        "      return\n",
        "    else:\n",
        "      self.n[v]=[]\n",
        "\n",
        "  def bfs(self,start):\n",
        "    q=[]\n",
        "    q.append(start)\n",
        "\n",
        "    visit={}\n",
        "    for i in self.n:\n",
        "      visit[i]=0\n",
        "    visit[start]=1\n",
        "    while len(q)!=0:\n",
        "      temp=q.pop(0)\n",
        "      visit[temp]=1\n",
        "      for nb in self.n[temp]:\n",
        "        if visit[nb]==1:\n",
        "          continue\n",
        "        else:\n",
        "          q.append(nb)\n",
        "    for v in visit:\n",
        "      if visit[v]!=1:\n",
        "        return False\n",
        "    \n",
        "    return True\n",
        "\n",
        "def compute():\n",
        "  obj=graph(len(set(a+b)))\n",
        "  for i in range(len(a)):\n",
        "    obj.add_edge(a[i],b[i])\n",
        "\n",
        "  for v in obj.n:\n",
        "    if obj.bfs(v)==True:\n",
        "      continue\n",
        "    else:\n",
        "      print(\"false\")\n",
        "      return\n",
        "  print(\"true\")\n",
        "compute()\n",
        "\n"
      ],
      "execution_count": null,
      "outputs": [
        {
          "output_type": "stream",
          "text": [
            "false\n"
          ],
          "name": "stdout"
        }
      ]
    },
    {
      "cell_type": "code",
      "metadata": {
        "id": "ofpDQNNahaFY",
        "colab": {
          "base_uri": "https://localhost:8080/"
        },
        "outputId": "10b1a956-0de7-4545-df4b-ef1f60a11ed1"
      },
      "source": [
        "# find second min and second max and swap the elements - amazon\n",
        "\n",
        "arr=[2,3,33,4,6,7,5,11,87]\n",
        "\n",
        "\n",
        "def second_min(arr):\n",
        "\n",
        "  min_ele=999\n",
        "  min_index=0\n",
        "  sec_min_ele=999\n",
        "  sec_min_index=0\n",
        "\n",
        "  for i in range(len(arr)):\n",
        "\n",
        "    if arr[i]<min_ele:\n",
        "      min_ele=arr[i]\n",
        "      min_index=i\n",
        "\n",
        "    if arr[i] < sec_min_ele and arr[i]!=min_ele:\n",
        "      sec_min_ele=arr[i]\n",
        "      sec_min_index=i\n",
        "\n",
        "  print(min_index,min_ele,sec_min_ele,sec_min_index)\n",
        "\n",
        "\n",
        "\n",
        "second_min(arr)\n",
        "\n",
        "\"\"\"\n",
        "SELECT T1.Dateadded, T1.Team FROM Table1 T1\n",
        " JOIN Table1 T2\n",
        "  ON T1.Team = T2.Team\n",
        "    and T1.Dateadded >= T2.Dateadded\n",
        "GROUP BY T1.Dateadded, T1.Team\n",
        "HAVING SUM(T2.Score) >= 150\n",
        "ORDER BY T1.Dateadded \n",
        "\n",
        "\"\"\""
      ],
      "execution_count": null,
      "outputs": [
        {
          "output_type": "stream",
          "text": [
            "0 2 3 1\n"
          ],
          "name": "stdout"
        }
      ]
    },
    {
      "cell_type": "code",
      "metadata": {
        "id": "CiHFlNhnv-sq",
        "colab": {
          "base_uri": "https://localhost:8080/"
        },
        "outputId": "dc2fe5e1-3fdf-4aa7-8393-d93d5c1597ec"
      },
      "source": [
        "# Competetive gaming - Twitter\n",
        "\n",
        "scores=[100,50,50,25]\n",
        "def getranks(k,scores):\n",
        "\n",
        "  scores=sorted(scores,reverse=True)\n",
        "  rank=[0]*len(scores)\n",
        "  count=1\n",
        "  for i in range(len(scores)):\n",
        "    if i==0:\n",
        "      rank[i]=count\n",
        "    if scores[i]==scores[i-1]:\n",
        "      rank[i]=rank[i-1]\n",
        "    else:\n",
        "      rank[i]=count\n",
        "    count+=1\n",
        "  \n",
        "  print(rank)\n",
        "\n",
        "getranks(3,scores)"
      ],
      "execution_count": null,
      "outputs": [
        {
          "output_type": "stream",
          "text": [
            "[1, 2, 2, 4]\n"
          ],
          "name": "stdout"
        }
      ]
    },
    {
      "cell_type": "code",
      "metadata": {
        "id": "3TSGJoJy1069",
        "colab": {
          "base_uri": "https://localhost:8080/"
        },
        "outputId": "9f63bff0-937b-44c5-c4e6-48a50e325566"
      },
      "source": [
        "# pat is an ordinary kid who works hard to be  a great runner Twitter\n",
        "\n",
        "n=5\n",
        "sprints=[2,4,1,3]\n",
        "\n",
        "\n",
        "def getmostvisited(n,sprints):\n",
        "  if len(sprints)<2:\n",
        "    return -1\n",
        "  start=0\n",
        "  end=1\n",
        "  dct={}\n",
        "\n",
        "  for i in range(1,len(sprints)):\n",
        "    start=sprints[i-1]\n",
        "    end=sprints[i]\n",
        "\n",
        "    if end >= start:\n",
        "      for i in range(start,end+1):\n",
        "        try:\n",
        "          dct[i]+=1\n",
        "        except:\n",
        "          dct[i]=1\n",
        "\n",
        "    if end < start:\n",
        "      k=start\n",
        "      while k>=end:\n",
        "        try:\n",
        "          dct[k]+=1\n",
        "        except:\n",
        "          dct[k]=1\n",
        "        k-=1\n",
        "\n",
        "  print(dct)\n",
        "  print(max(dct,key=lambda x:dct[x]))\n",
        "\n",
        "getmostvisited(5,sprints)\n",
        "\n"
      ],
      "execution_count": null,
      "outputs": [
        {
          "output_type": "stream",
          "text": [
            "{2: 3, 3: 3, 4: 2, 1: 2}\n",
            "2\n"
          ],
          "name": "stdout"
        }
      ]
    },
    {
      "cell_type": "code",
      "metadata": {
        "id": "noRSIZVyCMOZ"
      },
      "source": [
        "\"\"\"\n",
        "O(1) writes\n",
        "O(1) reads\n",
        "Implement a cache which supports the following methods\n",
        "put(String key, Integer val) — Puts a value in cache, keyed by key. If that key already exists, update with the new value.\n",
        "get(String key) — Returns a value in the cache given a key\n",
        "\n",
        "example:\n",
        "put(‘foo’, 100)\n",
        "get(‘foo’) -> 100\n",
        "put(‘foo’, 200)\n",
        "get(‘foo’) -> 200\n",
        "\"\"\"\n",
        "\n",
        "\"\"\"\n",
        "O(1) reads\n",
        "O(N) writes\n",
        "Add a `capacity` to limit the number of entries in the cache, and implement an LRU (least recently used) methodology for disposing of stale key/value pairs, when hitting `capacity` limits.\n",
        "\n",
        "example: if I have a cache limit of 2, and my cache has had two inserts, the least recently accessed entry will be evicted upon a new insert.\n",
        "cache = Cache(2)\n",
        "cache.put(‘foo’, 100)\n",
        "cache.put(‘bar’, 23)\n",
        "cache.put(‘baz’, 30)\n",
        "cache.get(‘baz’) -> 30\n",
        "cache.get(‘foo’) -> miss\n",
        "\"\"\"\n",
        "\n",
        "print('Hello CodingView!')\n",
        "\n",
        "class Cache:\n",
        "    def __init__(self,sz):\n",
        "        self.dct={}\n",
        "        self.counter=sz\n",
        "        \n",
        "    def LRU(self):\n",
        "        \"\"\"\n",
        "        Function to return least priority in dictionary\n",
        "        \"\"\"\n",
        "        new_dct=min(dct, key=dct[x][1])\n",
        "        return new_dct\n",
        "\n",
        "\n",
        "    def put(self,key,val):\n",
        "        \"\"\"\n",
        "        Function to insert/update a cache\n",
        "        key:str\n",
        "        val:int\n",
        "        return int\n",
        "        \"\"\"\n",
        "        if key in self.dct:\n",
        "\n",
        "            cur_id =self.dct[key][1]\n",
        "            # mod operation not to extend dictionary size\n",
        "\n",
        "            cur_id2=LRU()\n",
        "            # case where the same key  occurs and has low priority \n",
        "            if cur_id ==0\n",
        "                self.dct[key].extend([val,(self.LRU())%self.counter)+1])\n",
        "        \n",
        "            else:\n",
        "                for k in self.dct:\n",
        "                    if k!=key:\n",
        "                        self.dct[key][1]-=1\n",
        "                        \n",
        "                self.dct[key].extend([val,(self.LRU())%self.counter)+1])\n",
        "\n",
        "            return 1\n",
        "            \n",
        "        else:\n",
        "            self.dct[key]=[]\n",
        "            # get least recently used element\n",
        "            cur_id=(self.LRU())%self.counter)+1\n",
        "            self.dct[key].extend([val,cur_id])\n",
        "            for k in self.dct:\n",
        "                if k!=key:\n",
        "                    self.dct[key][1]-=1\n",
        "                    \n",
        "            return 0\n",
        "\n",
        "    def get(self,key):\n",
        "        \"\"\"\n",
        "        Function to get a cache\n",
        "        key:str\n",
        "        return int\n",
        "        \"\"\"\n",
        "        if key in self.dct:\n",
        "            return self.dct[key]\n",
        "        else:\n",
        "            return 0\n",
        "\n",
        "    \n",
        "obj=Cache(5)\n",
        "print(obj.put('foo', 100))\n",
        "print(obj.get('foo'))\n",
        "print(obj.put('foo', 200))\n",
        "print(obj.get('foo'))"
      ],
      "execution_count": null,
      "outputs": []
    }
  ]
}