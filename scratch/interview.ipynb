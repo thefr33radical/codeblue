{
  "nbformat": 4,
  "nbformat_minor": 0,
  "metadata": {
    "colab": {
      "name": "interview.ipynb",
      "provenance": [],
      "authorship_tag": "ABX9TyPt1HM6g7j8zGlpOf8wQ8yp"
    },
    "kernelspec": {
      "name": "python3",
      "display_name": "Python 3"
    }
  },
  "cells": [
    {
      "cell_type": "code",
      "metadata": {
        "id": "nKHqx0oPYUVw"
      },
      "source": [
        "# bloomberg\n",
        "#Find longest substring with unique  characters in O(n) time\n",
        "\n",
        "text=\"abaaabcdaaa\"\n",
        "\n",
        "def naive(text):\n",
        "  l=list(text)\n",
        "  #print(text)\n",
        "  dct={}\n",
        "  for i in l:\n",
        "    try:\n",
        "      dct[i]+=1\n",
        "      return False,text\n",
        "    except:\n",
        "      dct[i]=1\n",
        "  return True,text\n",
        "\n",
        "def compute():\n",
        "  start=0\n",
        "  end=len(text)-1\n",
        "  for window in range(len(text),1,-1):\n",
        "      \n",
        "      start=len(text)-window\n",
        "      end=window\n",
        "      while start < len(text) and end <len(text):\n",
        "        val,txt=naive(text)\n",
        "        if val:\n",
        "          print(val,txt)\n",
        "          return\n",
        "        start+=1\n",
        "        end+=1\n",
        "compute()"
      ],
      "execution_count": null,
      "outputs": []
    },
    {
      "cell_type": "code",
      "metadata": {
        "id": "o0hV3miVpQSi"
      },
      "source": [
        "# count number of words in a list for which given word is prefix\n",
        "\n",
        "name_list=[\"prefix\",\"predix\",\"pre\"]\n",
        "count=0\n",
        "prefix=\"pre\"\n",
        "for n in name_list:\n",
        "  if prefix in n and len(n) > len(prefix) and prefix[0]==n[0]:\n",
        "    count+=1\n",
        "print(count)\n",
        "\n",
        "\n",
        "# modified KMp approach for optimal string matching\n",
        "def kmp_algorithm(str1,str2):\n",
        "  pass\n"
      ],
      "execution_count": null,
      "outputs": []
    },
    {
      "cell_type": "code",
      "metadata": {
        "id": "IiQH5UtmDo4_"
      },
      "source": [
        "# Sort given list of strings alphabetically, lower case comes befor eupper case, \n",
        "# Numbers take precedence\n",
        "\n",
        "def sort_alphabet(arr):\n",
        "  new_arr=sorted(sorted(arr,reverse=True),key=str.lower)\n",
        "  return new_arr\n",
        "\n",
        "arr=[\"GOwtham\",\"Gowtham\",\"333\",\"11\"]\n",
        "print(sort_alphabet(arr))\n",
        "\n",
        "# custom sort using dictionary\n",
        "dct={}\n",
        "\n",
        "for i in range(97,124):\n",
        "  dct[chr(i)]=i\n",
        "  dct[str.upper(chr(i))]=i+0.5\n",
        "\n",
        "for i in range(0,11):\n",
        "  dct[str(i)]=0 \n",
        "#print(sorted(arr,key= lambda x :[dct[i] for i in x]))\n",
        "\n",
        "#custom sort using string\n",
        "s=\"\"\n",
        "for i in range(0,10):\n",
        "  s+=str(i)\n",
        "for i in range(97,124):\n",
        "  s+=chr(i)\n",
        "  s+=str.upper(chr(i))\n",
        "\n",
        "print(sorted(arr,key= lambda x :[s.index(i) for i in x]))"
      ],
      "execution_count": null,
      "outputs": []
    },
    {
      "cell_type": "code",
      "metadata": {
        "id": "ivM1Khp5auRW",
        "colab": {
          "base_uri": "https://localhost:8080/"
        },
        "outputId": "b2990dc8-413a-47ed-9ad8-d51bb0e05c3a"
      },
      "source": [
        "#Given an array of numbers, find the largest non consecutive sum\r\n",
        "arr=[1,2,3,55,66,7,8,87]\r\n",
        "\r\n",
        "def non_consecutive_sum(arr,n,x=0):\r\n",
        "  if n==0:\r\n",
        "    return arr[0]\r\n",
        "  if n==1:\r\n",
        "    return arr[1]\r\n",
        "  if n< 0:\r\n",
        "    return 0\r\n",
        "  return max(arr[n]+non_consecutive_sum(arr,n-2,0),non_consecutive_sum(arr,n-1,0))\r\n",
        "\r\n",
        "print(non_consecutive_sum(arr,len(arr)-1,0))"
      ],
      "execution_count": null,
      "outputs": [
        {
          "output_type": "stream",
          "text": [
            "157\n"
          ],
          "name": "stdout"
        }
      ]
    },
    {
      "cell_type": "code",
      "metadata": {
        "id": "WYf-z-QB7awc",
        "colab": {
          "base_uri": "https://localhost:8080/"
        },
        "outputId": "1bb0a41a-78bd-49b6-b9cd-3b31b0d3c585"
      },
      "source": [
        "# find if the graph is cyclic\r\n",
        "a=[1,3,2,4,5]\r\n",
        "b=[4,1,3,2,1]\r\n",
        "\r\n",
        "#a=[1,2,3,4]\r\n",
        "#b=[2,3,4,1]\r\n",
        "\r\n",
        "class graph():\r\n",
        "  def __init__(self,v):\r\n",
        "    self.v=v\r\n",
        "    self.n={}\r\n",
        "\r\n",
        "  def add_edge(self,u,v):\r\n",
        "    if u in self.n:\r\n",
        "      self.n[u].append(v)\r\n",
        "    else:\r\n",
        "      self.n[u]=[]\r\n",
        "      self.n[u].append(v)\r\n",
        "\r\n",
        "    if v in self.n:\r\n",
        "      return\r\n",
        "    else:\r\n",
        "      self.n[v]=[]\r\n",
        "\r\n",
        "  def bfs(self,start):\r\n",
        "    q=[]\r\n",
        "    q.append(start)\r\n",
        "\r\n",
        "    visit={}\r\n",
        "    for i in self.n:\r\n",
        "      visit[i]=0\r\n",
        "    visit[start]=1\r\n",
        "    while len(q)!=0:\r\n",
        "      temp=q.pop(0)\r\n",
        "      visit[temp]=1\r\n",
        "      for nb in self.n[temp]:\r\n",
        "        if visit[nb]==1:\r\n",
        "          continue\r\n",
        "        else:\r\n",
        "          q.append(nb)\r\n",
        "    for v in visit:\r\n",
        "      if visit[v]!=1:\r\n",
        "        return False\r\n",
        "    \r\n",
        "    return True\r\n",
        "\r\n",
        "def compute():\r\n",
        "  obj=graph(len(set(a+b)))\r\n",
        "  for i in range(len(a)):\r\n",
        "    obj.add_edge(a[i],b[i])\r\n",
        "\r\n",
        "  for v in obj.n:\r\n",
        "    if obj.bfs(v)==True:\r\n",
        "      continue\r\n",
        "    else:\r\n",
        "      print(\"false\")\r\n",
        "      return\r\n",
        "  print(\"true\")\r\n",
        "compute()\r\n",
        "\r\n"
      ],
      "execution_count": null,
      "outputs": [
        {
          "output_type": "stream",
          "text": [
            "false\n"
          ],
          "name": "stdout"
        }
      ]
    },
    {
      "cell_type": "code",
      "metadata": {
        "id": "ofpDQNNahaFY",
        "outputId": "10b1a956-0de7-4545-df4b-ef1f60a11ed1",
        "colab": {
          "base_uri": "https://localhost:8080/"
        }
      },
      "source": [
        "# find second min and second max and swap the elements\r\n",
        "\r\n",
        "arr=[2,3,33,4,6,7,5,11,87]\r\n",
        "\r\n",
        "\r\n",
        "def second_min(arr):\r\n",
        "\r\n",
        "  min_ele=999\r\n",
        "  min_index=0\r\n",
        "  sec_min_ele=999\r\n",
        "  sec_min_index=0\r\n",
        "\r\n",
        "  for i in range(len(arr)):\r\n",
        "\r\n",
        "    if arr[i]<min_ele:\r\n",
        "      min_ele=arr[i]\r\n",
        "      min_index=i\r\n",
        "\r\n",
        "    if arr[i] < sec_min_ele and arr[i]!=min_ele:\r\n",
        "      sec_min_ele=arr[i]\r\n",
        "      sec_min_index=i\r\n",
        "\r\n",
        "  print(min_index,min_ele,sec_min_ele,sec_min_index)\r\n",
        "\r\n",
        "\r\n",
        "\r\n",
        "second_min(arr)"
      ],
      "execution_count": 5,
      "outputs": [
        {
          "output_type": "stream",
          "text": [
            "0 2 3 1\n"
          ],
          "name": "stdout"
        }
      ]
    }
  ]
}