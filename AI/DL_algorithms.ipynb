{
  "nbformat": 4,
  "nbformat_minor": 0,
  "metadata": {
    "colab": {
      "name": "DL_algorithms.ipynb",
      "provenance": [],
      "authorship_tag": "ABX9TyOH4Vi/Es5JJKsfrgEpugA9"
    },
    "kernelspec": {
      "name": "python3",
      "display_name": "Python 3"
    }
  },
  "cells": [
    {
      "cell_type": "code",
      "metadata": {
        "id": "HHvmd4C_vWmy"
      },
      "source": [
        "# "
      ],
      "execution_count": null,
      "outputs": []
    },
    {
      "cell_type": "code",
      "metadata": {
        "id": "ZQS_BI1Dh94d"
      },
      "source": [
        "import pandas as pd\n",
        "\n",
        "var_matrix=pd.DataFrame([[1,2,3,4],[1,2,8,4],[1,2,4,4],[1,2,7,4]])\n",
        "weight_matrix=pd.DataFrame([1,2,3,4])\n",
        "bias=2\n",
        "\n",
        "def linear_neuron(var_matrix,weight_matrix,bias):\n",
        "  y= pd.DataFrame(var_matrix.dot(weight_matrix))\n",
        "  y=bias+y \n",
        "  return (y)\n",
        "\n",
        "print(linear_neuron(var_matrix,weight_matrix,bias))"
      ],
      "execution_count": null,
      "outputs": []
    },
    {
      "cell_type": "code",
      "metadata": {
        "id": "T-TZI4kwpJHb"
      },
      "source": [
        ""
      ],
      "execution_count": null,
      "outputs": []
    }
  ]
}