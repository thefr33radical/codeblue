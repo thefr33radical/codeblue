{
  "nbformat": 4,
  "nbformat_minor": 0,
  "metadata": {
    "colab": {
      "name": "DL_algorithms.ipynb",
      "provenance": [],
      "authorship_tag": "ABX9TyOhtFFXLrxWG/23NJr8pcgJ"
    },
    "kernelspec": {
      "name": "python3",
      "display_name": "Python 3"
    }
  },
  "cells": [
    {
      "cell_type": "code",
      "metadata": {
        "id": "ZQS_BI1Dh94d"
      },
      "source": [
        "import pandas as pd\n",
        "\n",
        "var_matrix=pd.DataFrame([[1,2,3,4],[1,2,8,4],[1,2,4,4],[1,2,7,4]])\n",
        "weight_matrix=pd.DataFrame([1,2,3,4])\n",
        "bias=2\n",
        "\n",
        "\n",
        "# Implemetation of Linear  Neuron\n",
        "def linear_neuron(X,weight_matrix,bias):\n",
        "  y= pd.DataFrame(X.dot(weight_matrix))\n",
        "  y=bias+y \n",
        "  return (y)\n",
        "#print(linear_neuron(var_matrix,weight_matrix,bias))\n",
        "\n",
        "\n",
        "# Implementation of Binary threshold neuron\n",
        "def binary_threshold_neuron(X,weight,bias,threshold):\n",
        "  z=bias + X.dot(weight)\n",
        "  y=z.loc[:,0].apply(lambda x :  1 if x >threshold else 0 )\n",
        "  return y\n",
        "#print(binary_threshold_neuron(var_matrix,weight_matrix,bias,32))\n",
        "\n",
        "\n",
        "#rectiflied linear neuron\n",
        "\n",
        "# Sigmoid neuron\n",
        "\n",
        "#Stochastic binary neuronn\n"
      ],
      "execution_count": null,
      "outputs": []
    },
    {
      "cell_type": "code",
      "metadata": {
        "id": "T-TZI4kwpJHb"
      },
      "source": [
        "#Perceptron\n"
      ],
      "execution_count": null,
      "outputs": []
    },
    {
      "cell_type": "code",
      "metadata": {
        "id": "fQtSKA4bblVN"
      },
      "source": [
        "#Backpropogation"
      ],
      "execution_count": null,
      "outputs": []
    },
    {
      "cell_type": "code",
      "metadata": {
        "id": "yXgMWRvBapYa"
      },
      "source": [
        "#RNN"
      ],
      "execution_count": null,
      "outputs": []
    },
    {
      "cell_type": "code",
      "metadata": {
        "id": "OqjUseWxarIl"
      },
      "source": [
        "#LSTM\n"
      ],
      "execution_count": null,
      "outputs": []
    },
    {
      "cell_type": "code",
      "metadata": {
        "id": "CNJhUCL9as6X"
      },
      "source": [
        "#GRU"
      ],
      "execution_count": null,
      "outputs": []
    }
  ]
}