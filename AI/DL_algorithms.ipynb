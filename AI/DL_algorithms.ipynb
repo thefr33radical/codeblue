{
  "nbformat": 4,
  "nbformat_minor": 0,
  "metadata": {
    "colab": {
      "name": "DL_algorithms.ipynb",
      "provenance": [],
      "authorship_tag": "ABX9TyN2CP0g48QPQhHoTVTrLY+v",
      "include_colab_link": true
    },
    "kernelspec": {
      "name": "python3",
      "display_name": "Python 3"
    }
  },
  "cells": [
    {
      "cell_type": "markdown",
      "metadata": {
        "id": "view-in-github",
        "colab_type": "text"
      },
      "source": [
        "<a href=\"https://colab.research.google.com/github/thefr33radical/codeblue/blob/master/AI/DL_algorithms.ipynb\" target=\"_parent\"><img src=\"https://colab.research.google.com/assets/colab-badge.svg\" alt=\"Open In Colab\"/></a>"
      ]
    },
    {
      "cell_type": "code",
      "metadata": {
        "id": "HHvmd4C_vWmy"
      },
      "source": [
        "# "
      ],
      "execution_count": null,
      "outputs": []
    },
    {
      "cell_type": "code",
      "metadata": {
        "id": "ZQS_BI1Dh94d",
        "colab": {
          "base_uri": "https://localhost:8080/"
        },
        "outputId": "850674d0-7ee5-430d-910d-1542cc85919b"
      },
      "source": [
        "import pandas as pd\n",
        "\n",
        "var_matrix=pd.DataFrame([[1,2,3,4],[1,2,8,4],[1,2,4,4],[1,2,7,4]])\n",
        "weight_matrix=pd.DataFrame([1,2,3,4])\n",
        "bias=2\n",
        "\n",
        "\n",
        "# Implemetation of Linear  Neuron\n",
        "def linear_neuron(X,weight_matrix,bias):\n",
        "  y= pd.DataFrame(X.dot(weight_matrix))\n",
        "  y=bias+y \n",
        "  return (y)\n",
        "#print(linear_neuron(var_matrix,weight_matrix,bias))\n",
        "\n",
        "\n",
        "# Implementation of Binary threshold neuron\n",
        "def binary_threshold_neuron(X,weight,bias,threshold):\n",
        "  z=bias + X.dot(weight)\n",
        "  y=z.loc[:,0].apply(lambda x :  1 if x >threshold else 0 )\n",
        "  return y\n",
        "#print(binary_threshold_neuron(var_matrix,weight_matrix,bias,32))\n",
        "\n",
        "\n",
        "\n"
      ],
      "execution_count": 17,
      "outputs": [
        {
          "output_type": "stream",
          "text": [
            "    0\n",
            "0  32\n",
            "1  47\n",
            "2  35\n",
            "3  44\n",
            "0    0\n",
            "1    1\n",
            "2    1\n",
            "3    1\n",
            "Name: 0, dtype: int64\n"
          ],
          "name": "stdout"
        }
      ]
    },
    {
      "cell_type": "code",
      "metadata": {
        "id": "T-TZI4kwpJHb"
      },
      "source": [
        ""
      ],
      "execution_count": null,
      "outputs": []
    }
  ]
}