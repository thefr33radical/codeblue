{
  "nbformat": 4,
  "nbformat_minor": 0,
  "metadata": {
    "colab": {
      "name": "ml_algorithms.ipynb",
      "provenance": [],
      "include_colab_link": true
    },
    "kernelspec": {
      "name": "python3",
      "display_name": "Python 3"
    }
  },
  "cells": [
    {
      "cell_type": "markdown",
      "metadata": {
        "id": "view-in-github",
        "colab_type": "text"
      },
      "source": [
        "<a href=\"https://colab.research.google.com/github/thefr33radical/codeblue/blob/master/AI/ml_algorithms.ipynb\" target=\"_parent\"><img src=\"https://colab.research.google.com/assets/colab-badge.svg\" alt=\"Open In Colab\"/></a>"
      ]
    },
    {
      "cell_type": "markdown",
      "metadata": {
        "id": "vQMLbM0iNZSk"
      },
      "source": [
        "## Recommended Links :\n",
        "  \n",
        "* [python-course.eu](https://www.python-course.eu)\n",
        "* [Google Devlopers](https://developers.google.com/machine-learning)"
      ]
    },
    {
      "cell_type": "markdown",
      "metadata": {
        "id": "khjvEjEqm7Rj"
      },
      "source": [
        "# Boosting & bagging\n",
        "\n",
        "Similarities & Differences\n",
        "\n",
        "* Both are ensemble methods to get N learners from 1 learner…\n",
        "\n",
        "… but, while they are built independently for Bagging, Boosting tries to add new models that do well where previous models fail.\n",
        "\n",
        "* Both generate several training data sets by random sampling…\n",
        "\n",
        "* … but only Boosting determines weights for the data to tip the scales in favor of the most difficult cases.\n",
        "\n",
        "* Both make the final decision by averaging  the N learners (or taking the majority of them)…\n",
        "\n",
        "* … but it is an equally weighted average for Bagging and a weighted average for Boosting, more weight to those with better performance on training data.\n",
        "\n",
        "* Both are good at reducing variance and provide higher stability…\n",
        "\n",
        "* … but only Boosting tries to reduce bias. On the other hand, Bagging may solve the over-fitting problem, while Boosting can increase it.\n",
        "\n",
        "### References:\n",
        "\n",
        "* [Quantdare](https://quantdare.com/what-is-the-difference-between-bagging-and-boosting/)\n"
      ]
    },
    {
      "cell_type": "markdown",
      "metadata": {
        "id": "LczWAdUfnMZM"
      },
      "source": [
        ""
      ]
    },
    {
      "cell_type": "markdown",
      "metadata": {
        "id": "ff2HU-kVGJS6"
      },
      "source": [
        "# Decesion Trees\n",
        "\n",
        "The main idea of decision trees is to find those descriptive features which contain the most \"information\" regarding the target feature and then split the dataset along the values of these features such that the target feature values for the resulting sub_datasets are as pure as possible\n",
        "\n",
        "\n",
        "## Advantages:\n",
        "\n",
        "Applicable for categorical data, Not effected by outliers/Redundant features, No Need to impute missing data - Require very little data preparation, Interpretable, Decision Trees that is applicable for continuous and categorical inputs.\n",
        "\n",
        "## Disadvantages:\n",
        "\n",
        " Overfitting, Follows Greedy Approach, Unstable, is affected by class imbalance.\n",
        "\n",
        "\n",
        "* **Smooth boundaries are problematic**  i.e they work best when you have discontinuous piece wise constant model. If you truly have **a linear target function decision trees are not the best.**\n",
        "\n",
        "* **Un-correlated variables is an issue**  Decision tree's work by finding the interactions between variables.  if you have a situation where there are no interactions between variables linear approaches might be the best.\n",
        "\n",
        "* **Data fragmentation** : Each split in a tree leads to a reduced dataset under consideration. And, hence the model created at the split will potentially introduce bias.\n",
        "\n",
        "* **High variance and unstable** :  As a result of the greedy strategy applied by decision tree's variance in finding the right starting point of the tree can greatly impact the final result. i.e small changes early on can have big impacts later. So- if for example you draw two different samples from your universe , the starting points for both the samples could be very different (and may even be different variables) this can lead to totally different results.\n",
        "\n",
        "* **Instability** - The decision tree changes when I perturb the dataset a bit. This is not desirable as we want our classification algorithm to be pretty robust to noise and be able to generalize well to future observed data. This can undercut confidence in the tree and hurt the ability to learn from it. One solution - Is to switch to a tree-ensemble method that combines many decision trees on slightly different versions of the dataset.\n",
        "\n",
        "* **Classification Plateaus** - There's a very big difference between being on the left side of a boundary instead of a right side. We could see two different flowers with similar characteristics classified very differently. Some sort of rolling hill type of classification could work better than a plateau classification scheme. One solution - (like above), is to switch to a tree-ensemble method that combines many decision trees on slightly different versions of the dataset.\n",
        "\n",
        "* **Decision Boundaries are parallel to the axis** - We could imagine diagonal decision boundaries that would perform better, e.g. separating the setosa flowers and the versicolor flowers.\n",
        "\n",
        "* **Interpretation**:  Decision Trees will never give you the right answer, it will give you many possible answers.  Change the root node of the tree to start with a different variable and you will probably get a different tree. Which one is correct?\n",
        "\n",
        "* **Significance**:  Change the significance level (even a little), or the size of the bins and you will get different trees. Change the random seed and it changes as well.  Repeat the process for another sample (or even subsample) and you will get another tree. Do enough permutations on your own, and you will get the tree you want!\n",
        "\n",
        "* **Multiple comparisons**: Tree algorithms generally use chi-square test to determine significance of any particular split.  But even before that has been determined, the algorithm has tried many combinations of variables to get the 'best' split.  That, coupled with a tree with many levels and branches can lead to an over optimized result, or many false positives due to multiple comparisons.\n",
        "\n",
        "### References:\n",
        "\n",
        "* [Quora](https://www.quora.com/What-are-the-disadvantages-of-using-a-decision-tree-for-classification)\n",
        "* [Research gate](researchgate.net/post/What_are_pros_and_cons_of_decision_tree_versus_other_classifier_as_KNN_SVM_NN)\n",
        "* [python-course.eu](https://www.python-course.eu/Decision_Trees.php)\n",
        "* [Visualization kdnuggets](https://www.kdnuggets.com/2018/12/guide-decision-trees-machine-learning-data-science.html)"
      ]
    },
    {
      "cell_type": "code",
      "metadata": {
        "id": "Ya4aiD2yRKWZ",
        "outputId": "0cfc8042-54c2-492d-bd4d-86311c9f424f",
        "colab": {
          "base_uri": "https://localhost:8080/",
          "height": 248
        }
      },
      "source": [
        "# Decesion Tree impl\n",
        "import pandas as pd\n",
        "import graphviz\n",
        "from sklearn import tree\n",
        "\n",
        "from sklearn.preprocessing import LabelEncoder\n",
        "import numpy as np\n",
        "\n",
        "\n",
        "# Sample data\n",
        "data = pd.DataFrame({\"toothed\":[\"True\",\"True\",\"True\",\"False\",\"True\",\"True\",\"True\",\"True\",\"True\",\"False\"],\n",
        "                     \"hair\":[\"True\",\"True\",\"False\",\"True\",\"True\",\"True\",\"False\",\"False\",\"True\",\"False\"],\n",
        "                     \"breathes\":[\"True\",\"True\",\"True\",\"True\",\"True\",\"True\",\"False\",\"True\",\"True\",\"True\"],\n",
        "                     \"legs\":[\"True\",\"True\",\"False\",\"True\",\"True\",\"True\",\"False\",\"False\",\"True\",\"True\"],\n",
        "                     \"species\":[\"Mammal\",\"Mammal\",\"Reptile\",\"Mammal\",\"Mammal\",\"Mammal\",\"Reptile\",\"Reptile\",\"Mammal\",\"Reptile\"]}, \n",
        "                    columns=[\"toothed\",\"hair\",\"breathes\",\"legs\",\"species\"])\n",
        "features = data[[\"toothed\",\"hair\",\"breathes\",\"legs\"]]\n",
        "target = data[\"species\"]\n",
        "data\n",
        "\n",
        "\n",
        "enc=LabelEncoder()\n",
        "\n",
        "for i in data.columns:\n",
        "  data[i]=enc.fit_transform(data[i])\n",
        "\n",
        "#print(data)\n",
        "tree_model=tree.DecisionTreeClassifier()\n",
        "tree_model.fit(data.iloc[:-3,:-1],data.iloc[:-3,-1])\n",
        "tree.plot_tree(tree_model)  \n",
        "\n",
        "tree_vis=tree.export_graphviz(tree_model,out_file=None,feature_names=data.columns[:-1],class_names=data.columns[-1])\n",
        "graph=graphviz.Source(tree_vis)\n",
        "graph.render(\"data\")\n",
        "\n",
        "#$tree_model.score()\n",
        "\n",
        "def  split_data(dataset):\n",
        "\n",
        "  X= dataset.iloc[:,:-1]\n",
        "  Y= dataset.iloc[:,-1]\n",
        "\n",
        "  from sklearn.model_selection import  train_test_split\n",
        "  x_train, x_test, y_train, y_test = train_test_split(X, Y, test_size=0.25)\n",
        "\n",
        "  return x_train, x_test, y_train, y_test\n",
        "\n",
        "\n",
        "def sklearnDtree(x_train, x_test, y_train, y_test):\n",
        "  from  sklearn.tree import DecisionTreeClassifier\n",
        "\n",
        "  tree_model=DecisionTreeClassifier(criterion='gini', splitter='best', max_depth=None, min_samples_split=2, min_samples_leaf=1, \\\n",
        "                         min_weight_fraction_leaf=0.0, max_features=None, random_state=None, \\\n",
        "                         max_leaf_nodes=None,  min_impurity_split=None, \\\n",
        "                         class_weight=None, ccp_alpha=0.0) \n",
        "  \n",
        "x_train, x_test, y_train, y_test=split_data(data)\n",
        "sklearnDtree(x_train, x_test, y_train, y_test)"
      ],
      "execution_count": 16,
      "outputs": [
        {
          "output_type": "display_data",
          "data": {
            "image/png": "[encoded data removed]",
            "text/plain": [
              "<Figure size 432x288 with 1 Axes>"
            ]
          },
          "metadata": {
            "tags": [],
            "needs_background": "light"
          }
        }
      ]
    },
    {
      "cell_type": "markdown",
      "metadata": {
        "id": "6k6rWR5UqvZw"
      },
      "source": [
        "# KMEANS\n",
        "\n",
        "T(C) = O(no of data points X number of clusters X Dimension od data points X Number of Iterations)\n",
        "\n",
        "k-means clustering is a method of vector quantization, originally from signal processing, that is popular for cluster analysis in data mining. k-means clustering aims to partition n observations into k clusters in which each observation belongs to the cluster with the nearest mean, serving as a prototype of the cluster. This results in a partitioning of the data space into Voronoi cells.\n",
        "\n",
        "The problem is computationally difficult (NP-hard); however, efficient heuristic algorithms converge quickly to a local optimum. These are usually similar to the **expectation-maximization algorithm for mixtures of Gaussian distributions** via an iterative refinement approach employed by both k-means and Gaussian mixture modeling. They both use cluster centers to model the data; however, k-means clustering tends to find clusters of comparable spatial extent, while the expectation-maximization mechanism allows clusters to have different shapes.\n",
        "\n",
        "The algorithm has a loose relationship to the k-nearest neighbor classifier, a popular machine learning technique for classification that is often confused with k-means due to the name. Applying the 1-nearest neighbor classifier to the cluster centers obtained by k-means classifies new data into the existing clusters. This is known as nearest centroid classifier or Rocchio algorithm.\n",
        "\n",
        "The term \"k-means\" was first used by **James MacQueen in 1967**,though the idea goes back to Hugo Steinhaus in 1956.The standard algorithm was first proposed by Stuart Lloyd of Bell Labs in 1957 as a technique for pulse-code modulation, though it wasn't published as a journal article until 1982. In 1965, Edward W. Forgy published essentially the same method, which is why it is sometimes referred to as **Lloyd-Forgy**.\n",
        "\n",
        "k-means clustering, and its associated expectation-maximization algorithm, is a special case of a **Gaussian mixture model**, specifically, the limit of taking all covariances as diagonal, equal and small. It is often easy to generalize a k-means problem into a Gaussian mixture model. Another generalization of the k-means algorithm is the **K-SVD algorithm**, which estimates data points as a sparse linear combination of \"codebook vectors\". k-means corresponds to the special case of using a single codebook vector, with a weight of 1.\n",
        "\n",
        "**Assumptions**\n",
        "* A key limitation of k-means is its cluster model. \n",
        "* The concept is based on **spherical clusters** that are separable so that the mean converges towards the cluster center.\n",
        "* The clusters are expected to be of **similar size**, so that the assignment to the nearest cluster center is the correct assignment.\n",
        "\n",
        "**Applications**\n",
        "* k-means clustering is rather easy to apply to even large data sets, particularly when using heuristics such as Lloyd's algorithm. It has been successfully used in market segmentation, computer vision, and astronomy among many other domains. It often is used as a preprocessing step for other algorithms, for example to find a starting configuration.\n",
        "\n",
        "* Vector quantization :\n",
        "k-means originates from signal processing, and still finds use in this domain. For example, in computer graphics, color quantization is the task of reducing the color palette of an image to a fixed number of colors k. The k-means algorithm can easily be used for this task and produces competitive results. A use case for this approach is image segmentation. Other uses of vector quantization include non-random sampling, as k-means can easily be used to choose k different but prototypical objects from a large data set for further analysis.\n",
        "\n",
        "* Cluster analysis :In cluster analysis, the k-means algorithm can be used to partition the input data set into k partitions (clusters).\n",
        "\n",
        "**Advantages** \n",
        "* Relatively simple to implement.\n",
        "\n",
        "* Scales to large data sets.\n",
        "\n",
        "* Guarantees convergence.\n",
        "\n",
        "* Can warm-start the positions of centroids.\n",
        "\n",
        "* Easily adapts to new examples.\n",
        "\n",
        "* Generalizes to clusters of different shapes and sizes, such as elliptical clusters.\n",
        "\n",
        "**Disadvantages**\n",
        "* The pure k-means algorithm is **not very flexible**, and as such is of limited use (except for when vector quantization as above is actually the desired use case). \n",
        "* In particular, the parameter **k is known to be hard to choose** when not given by external constraints. \n",
        "* Another limitation is that it **cannot be used with arbitrary distance** functions \n",
        "* **Cannot be used with non-numerical data.**\n",
        "\n",
        "**Quirks**\n",
        "* The number of clusters k is an input parameter: an inappropriate choice of k may yield poor results. That is why, when performing k-means, it is important to run diagnostic checks for determining the number of clusters in the data set.\n",
        "\n",
        "### Refereces\n",
        "\n",
        "* https://developers.google.com/machine-learning/clustering\n",
        "* Kneedle : https://raghavan.usc.edu//papers/kneedle-simplex11.pdf\n",
        "* Theory : https://towardsdatascience.com/k-means-clustering-algorithm-applications-evaluation-methods-and-drawbacks-aa03e644b48a\n",
        "* Theory : https://en.wikipedia.org/wiki/K-means_clustering\n",
        "* Rocchio Algorithm : https://nlp.stanford.edu/IR-book/html/htmledition/rocchio-classification-1.html\n",
        "*\n"
      ]
    },
    {
      "cell_type": "code",
      "metadata": {
        "id": "U7Yv3GDr9IJ6",
        "outputId": "6654b62e-b136-47a4-d0fb-7234753e17f6",
        "colab": {
          "base_uri": "https://localhost:8080/",
          "height": 238
        }
      },
      "source": [
        "!pip install pyspark"
      ],
      "execution_count": null,
      "outputs": [
        {
          "output_type": "stream",
          "text": [
            "Collecting pyspark\n",
            "\u001b[?25l  Downloading https://files.pythonhosted.org/packages/87/21/f05c186f4ddb01d15d0ddc36ef4b7e3cedbeb6412274a41f26b55a650ee5/pyspark-2.4.4.tar.gz (215.7MB)\n",
            "\u001b[K     |████████████████████████████████| 215.7MB 106kB/s \n",
            "\u001b[?25hCollecting py4j==0.10.7 (from pyspark)\n",
            "\u001b[?25l  Downloading https://files.pythonhosted.org/packages/e3/53/c737818eb9a7dc32a7cd4f1396e787bd94200c3997c72c1dbe028587bd76/py4j-0.10.7-py2.py3-none-any.whl (197kB)\n",
            "\u001b[K     |████████████████████████████████| 204kB 44.4MB/s \n",
            "\u001b[?25hBuilding wheels for collected packages: pyspark\n",
            "  Building wheel for pyspark (setup.py) ... \u001b[?25l\u001b[?25hdone\n",
            "  Created wheel for pyspark: filename=pyspark-2.4.4-py2.py3-none-any.whl size=216130387 sha256=4862a2f2441986f000a442c7aedc9e8e4ab78c985ae86ce91afc7489946a7ce7\n",
            "  Stored in directory: /root/.cache/pip/wheels/ab/09/4d/0d184230058e654eb1b04467dbc1292f00eaa186544604b471\n",
            "Successfully built pyspark\n",
            "Installing collected packages: py4j, pyspark\n",
            "Successfully installed py4j-0.10.7 pyspark-2.4.4\n"
          ],
          "name": "stdout"
        }
      ]
    },
    {
      "cell_type": "code",
      "metadata": {
        "id": "R9rfZYH89IsY",
        "outputId": "3b679775-b00f-4766-e261-055cc67600b6",
        "colab": {
          "base_uri": "https://localhost:8080/",
          "height": 598
        }
      },
      "source": [
        "import numpy as np\n",
        "import pandas as pd\n",
        "import matplotlib.pyplot as plt\n",
        "import random\n",
        "\n",
        "\n",
        "\n",
        "def sklearnKMeans(train_x,k):\n",
        "  pass\n",
        "\n",
        "def KMeans(train_x,k):\n",
        "  \"\"\"\n",
        "  user defined functions to find clusters using Kmeans\n",
        "  \"\"\"\n",
        "  \n",
        "  cluster_one =np.random.normal(0,1,size=(100,2))\n",
        "  cluster_two=np.random.normal(5,1,size=(100,2))\n",
        "  \n",
        "  train_x=np.append(cluster_one,cluster_two,axis=0)\n",
        "  #print(train_x)\n",
        "  data =pd.DataFrame(train_x)\n",
        "  plt.scatter(train_x[:,0],train_x[:,1])\n",
        "  \n",
        "  k=3\n",
        "  d =data.shape[1]\n",
        "  iterations=10\n",
        "  n=len(train_x)\n",
        "  centroids=np.zeros([k,d])\n",
        "  \n",
        "  temp_centroids=np.zeros([k,d])\n",
        "  dist=np.zeros(n)\n",
        "  # Intialize a matrix for storing centoids of length k and dimensions d\n",
        "  for i in range(len(centroids)):\n",
        "    centroids[i]=random.choice([0,len(train_x)])\n",
        "    temp_centroids[i]=random.choice([0,len(train_x)])\n",
        "    \n",
        "  # Overall = O(n x k x d x i)\n",
        "  \n",
        "  for i in range(iterations):\n",
        "               \n",
        "        # Time complexity = O(n X k X d)\n",
        "        temp_centroids, dist = compute_eucledian(centroids,k,train_x,d)\n",
        "        \n",
        "  \n",
        "  \n",
        "  \n",
        "\n",
        "      \n",
        "      \n",
        "      \n",
        "    \n",
        "KMeans(None, None)\n",
        "  \n",
        "  \n",
        "  "
      ],
      "execution_count": 2,
      "outputs": [
        {
          "output_type": "error",
          "ename": "NameError",
          "evalue": "ignored",
          "traceback": [
            "\u001b[0;31m---------------------------------------------------------------------------\u001b[0m",
            "\u001b[0;31mNameError\u001b[0m                                 Traceback (most recent call last)",
            "\u001b[0;32m<ipython-input-2-e2cdbe84f33c>\u001b[0m in \u001b[0;36m<module>\u001b[0;34m()\u001b[0m\n\u001b[1;32m     50\u001b[0m \u001b[0;34m\u001b[0m\u001b[0m\n\u001b[1;32m     51\u001b[0m \u001b[0;34m\u001b[0m\u001b[0m\n\u001b[0;32m---> 52\u001b[0;31m \u001b[0mKMeans\u001b[0m\u001b[0;34m(\u001b[0m\u001b[0;32mNone\u001b[0m\u001b[0;34m,\u001b[0m \u001b[0;32mNone\u001b[0m\u001b[0;34m)\u001b[0m\u001b[0;34m\u001b[0m\u001b[0;34m\u001b[0m\u001b[0m\n\u001b[0m\u001b[1;32m     53\u001b[0m \u001b[0;34m\u001b[0m\u001b[0m\n\u001b[1;32m     54\u001b[0m \u001b[0;34m\u001b[0m\u001b[0m\n",
            "\u001b[0;32m<ipython-input-2-e2cdbe84f33c>\u001b[0m in \u001b[0;36mKMeans\u001b[0;34m(train_x, k)\u001b[0m\n\u001b[1;32m     40\u001b[0m \u001b[0;34m\u001b[0m\u001b[0m\n\u001b[1;32m     41\u001b[0m         \u001b[0;31m# Time complexity = O(n X k X d)\u001b[0m\u001b[0;34m\u001b[0m\u001b[0;34m\u001b[0m\u001b[0;34m\u001b[0m\u001b[0m\n\u001b[0;32m---> 42\u001b[0;31m         \u001b[0mtemp_centroids\u001b[0m\u001b[0;34m,\u001b[0m \u001b[0mdist\u001b[0m \u001b[0;34m=\u001b[0m \u001b[0mcompute_eucledian\u001b[0m\u001b[0;34m(\u001b[0m\u001b[0mcentroids\u001b[0m\u001b[0;34m,\u001b[0m\u001b[0mk\u001b[0m\u001b[0;34m,\u001b[0m\u001b[0mtrain_x\u001b[0m\u001b[0;34m,\u001b[0m\u001b[0md\u001b[0m\u001b[0;34m)\u001b[0m\u001b[0;34m\u001b[0m\u001b[0;34m\u001b[0m\u001b[0m\n\u001b[0m\u001b[1;32m     43\u001b[0m \u001b[0;34m\u001b[0m\u001b[0m\n\u001b[1;32m     44\u001b[0m \u001b[0;34m\u001b[0m\u001b[0m\n",
            "\u001b[0;31mNameError\u001b[0m: name 'compute_eucledian' is not defined"
          ]
        },
        {
          "output_type": "display_data",
          "data": {
            "image/png": "[encoded data removed]",
            "text/plain": [
              "<Figure size 432x288 with 1 Axes>"
            ]
          },
          "metadata": {
            "tags": [],
            "needs_background": "light"
          }
        }
      ]
    },
    {
      "cell_type": "code",
      "metadata": {
        "id": "zcaotj-Gx444"
      },
      "source": [
        "import keras\n",
        "from keras.datasetsimport cifar10\n",
        "from keras.models import Sequential\n",
        "from keras.layers import Conv2D,Dense, MaxPooling2D, Activation, Flatten, Dropout\n",
        "\n",
        "(train_x,train_y),(test_x,test_y)=cifar10.load_data()\n",
        "\n",
        "\n",
        "\n",
        "def CNN(train_x,train_y,test_x,test_y):\n",
        "  pass\n",
        "\n",
        "\n",
        "\n",
        "\n",
        "\n",
        "\n",
        "\n",
        "\n",
        "\n",
        "\n",
        "\n",
        "\n",
        "\n",
        "\n",
        "\n",
        "\n"
      ],
      "execution_count": null,
      "outputs": []
    }
  ]
}