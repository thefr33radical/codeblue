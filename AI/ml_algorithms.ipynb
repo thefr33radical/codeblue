{
  "nbformat": 4,
  "nbformat_minor": 0,
  "metadata": {
    "colab": {
      "name": "ml_algorithms.ipynb",
      "provenance": []
    },
    "kernelspec": {
      "name": "python3",
      "display_name": "Python 3"
    }
  },
  "cells": [
    {
      "cell_type": "markdown",
      "metadata": {
        "id": "vQMLbM0iNZSk"
      },
      "source": [
        "## Recommended Links :\n",
        "  \n",
        "* [python-course.eu](https://www.python-course.eu)\n",
        "* [Google Devlopers](https://developers.google.com/machine-learning)"
      ]
    },
    {
      "cell_type": "markdown",
      "metadata": {
        "id": "khjvEjEqm7Rj"
      },
      "source": [
        "# Boosting & bagging\n",
        "\n",
        "Similarities & Differences\n",
        "\n",
        "* Both are ensemble methods to get N learners from 1 learner…\n",
        "\n",
        "… but, while they are built independently for Bagging, Boosting tries to add new models that do well where previous models fail.\n",
        "\n",
        "* Both generate several training data sets by random sampling…\n",
        "\n",
        "* … but only Boosting determines weights for the data to tip the scales in favor of the most difficult cases.\n",
        "\n",
        "* Both make the final decision by averaging  the N learners (or taking the majority of them)…\n",
        "\n",
        "* … but it is an equally weighted average for Bagging and a weighted average for Boosting, more weight to those with better performance on training data.\n",
        "\n",
        "* Both are good at reducing variance and provide higher stability…\n",
        "\n",
        "* … but only Boosting tries to reduce bias. On the other hand, Bagging may solve the over-fitting problem, while Boosting can increase it.\n",
        "\n",
        "### References:\n",
        "\n",
        "* [Quantdare](https://quantdare.com/what-is-the-difference-between-bagging-and-boosting/)\n"
      ]
    },
    {
      "cell_type": "markdown",
      "metadata": {
        "id": "LczWAdUfnMZM"
      },
      "source": [
        ""
      ]
    },
    {
      "cell_type": "markdown",
      "metadata": {
        "id": "ff2HU-kVGJS6"
      },
      "source": [
        "# Decesion Trees\n",
        "\n",
        "The main idea of decision trees is to find those descriptive features which contain the most \"information\" regarding the target feature and then split the dataset along the values of these features such that the target feature values for the resulting sub_datasets are as pure as possible\n",
        "\n",
        "\n",
        "## Advantages:\n",
        "\n",
        "* Applicable for categorical data, Not effected by outliers/Redundant features, No Need to impute missing data - Require very little data preparation, Interpretable, Decision Trees that is applicable for continuous and categorical inputs.\n",
        "* In Non Parametric methods no such feature of distribution is used for modelling. Primarily in Decision trees (say CART) it takes into account which variable/split brings in maximum difference in the two branches(eg - Gini) . In such a case , the distribution does not really matter.\n",
        "\n",
        "## Disadvantages:\n",
        "\n",
        " Overfitting, Follows Greedy Approach, Unstable, is affected by class imbalance.\n",
        "\n",
        "\n",
        "* **Smooth boundaries are problematic**  i.e they work best when you have discontinuous piece wise constant model. If you truly have **a linear target function decision trees are not the best.**\n",
        "\n",
        "* **Un-correlated variables is an issue**  Decision tree's work by finding the interactions between variables.  if you have a situation where there are no interactions between variables linear approaches might be the best.\n",
        "\n",
        "* **Data fragmentation** : Each split in a tree leads to a reduced dataset under consideration. And, hence the model created at the split will potentially introduce bias.\n",
        "\n",
        "* **High variance and unstable** :  As a result of the greedy strategy applied by decision tree's variance in finding the right starting point of the tree can greatly impact the final result. i.e small changes early on can have big impacts later. So- if for example you draw two different samples from your universe , the starting points for both the samples could be very different (and may even be different variables) this can lead to totally different results.\n",
        "\n",
        "* **Instability** - The decision tree changes when I perturb the dataset a bit. This is not desirable as we want our classification algorithm to be pretty robust to noise and be able to generalize well to future observed data. This can undercut confidence in the tree and hurt the ability to learn from it. One solution - Is to switch to a tree-ensemble method that combines many decision trees on slightly different versions of the dataset.\n",
        "\n",
        "* **Classification Plateaus** - There's a very big difference between being on the left side of a boundary instead of a right side. We could see two different flowers with similar characteristics classified very differently. Some sort of rolling hill type of classification could work better than a plateau classification scheme. One solution - (like above), is to switch to a tree-ensemble method that combines many decision trees on slightly different versions of the dataset.\n",
        "\n",
        "* **Decision Boundaries are parallel to the axis** - We could imagine diagonal decision boundaries that would perform better, e.g. separating the setosa flowers and the versicolor flowers.\n",
        "\n",
        "* **Interpretation**:  Decision Trees will never give you the right answer, it will give you many possible answers.  Change the root node of the tree to start with a different variable and you will probably get a different tree. Which one is correct?\n",
        "\n",
        "* **Significance**:  Change the significance level (even a little), or the size of the bins and you will get different trees. Change the random seed and it changes as well.  Repeat the process for another sample (or even subsample) and you will get another tree. Do enough permutations on your own, and you will get the tree you want!\n",
        "\n",
        "* **Multiple comparisons**: Tree algorithms generally use chi-square test to determine significance of any particular split.  But even before that has been determined, the algorithm has tried many combinations of variables to get the 'best' split.  That, coupled with a tree with many levels and branches can lead to an over optimized result, or many false positives due to multiple comparisons.\n",
        "\n",
        "### References:\n",
        "\n",
        "* [Quora](https://www.quora.com/What-are-the-disadvantages-of-using-a-decision-tree-for-classification)\n",
        "* [Research gate](researchgate.net/post/What_are_pros_and_cons_of_decision_tree_versus_other_classifier_as_KNN_SVM_NN)\n",
        "* [python-course.eu](https://www.python-course.eu/Decision_Trees.php)\n",
        "* [Visualization kdnuggets](https://www.kdnuggets.com/2018/12/guide-decision-trees-machine-learning-data-science.html)"
      ]
    },
    {
      "cell_type": "code",
      "metadata": {
        "id": "Ya4aiD2yRKWZ",
        "colab": {
          "base_uri": "https://localhost:8080/",
          "height": 282
        },
        "outputId": "6d86db99-b9d0-4b06-e0c4-aa7fe2a23031"
      },
      "source": [
        "# Decesion Tree impl\n",
        "import pandas as pd\n",
        "import graphviz\n",
        "from sklearn import tree\n",
        "\n",
        "from sklearn.preprocessing import LabelEncoder\n",
        "import numpy as np\n",
        "\n",
        "\n",
        "# Sample data\n",
        "def EDA():\n",
        "  data = pd.DataFrame({\"toothed\":[\"True\",\"True\",\"True\",\"False\",\"True\",\"True\",\"True\",\"True\",\"True\",\"False\"],\n",
        "                      \"hair\":[\"True\",\"True\",\"False\",\"True\",\"True\",\"True\",\"False\",\"False\",\"True\",\"False\"],\n",
        "                      \"breathes\":[\"True\",\"True\",\"True\",\"True\",\"True\",\"True\",\"False\",\"True\",\"True\",\"True\"],\n",
        "                      \"legs\":[\"True\",\"True\",\"False\",\"True\",\"True\",\"True\",\"False\",\"False\",\"True\",\"True\"],\n",
        "                      \"species\":[\"Mammal\",\"Mammal\",\"Reptile\",\"Mammal\",\"Mammal\",\"Mammal\",\"Reptile\",\"Reptile\",\"Mammal\",\"Reptile\"]}, \n",
        "                      columns=[\"toothed\",\"hair\",\"breathes\",\"legs\",\"species\"])\n",
        "  features = data[[\"toothed\",\"hair\",\"breathes\",\"legs\"]]\n",
        "  target = data[\"species\"]\n",
        "  enc=LabelEncoder()\n",
        "\n",
        "  for i in data.columns:\n",
        "    data[i]=enc.fit_transform(data[i])\n",
        "  return data\n",
        "\n",
        "def  split_data(dataset):\n",
        "  X= dataset.iloc[:,:-1]\n",
        "  Y= dataset.iloc[:,-1]\n",
        "\n",
        "  from sklearn.model_selection import  train_test_split\n",
        "  x_train, x_test, y_train, y_test = train_test_split(X, Y, test_size=0.25)\n",
        "\n",
        "  return x_train, x_test, y_train, y_test\n",
        "\n",
        "def udfDtree(x_train, x_test, y_train, y_test):\n",
        "  tree_model=tree.DecisionTreeClassifier()\n",
        "  tree_model.fit(data.iloc[:-3,:-1],data.iloc[:-3,-1])\n",
        "  tree.plot_tree(tree_model)  \n",
        "\n",
        "  tree_vis=tree.export_graphviz(tree_model,out_file=None,feature_names=data.columns[:-1],class_names=data.columns[-1])\n",
        "  graph=graphviz.Source(tree_vis)\n",
        "  graph.render(\"data\")\n",
        "\n",
        "  #$tree_model.score()\n",
        "\n",
        "\n",
        "\n",
        "def sklearnDtree(x_train, x_test, y_train, y_test):\n",
        "  from  sklearn.tree import DecisionTreeClassifier\n",
        "\n",
        "  tree_model=DecisionTreeClassifier(criterion='gini', splitter='best', max_depth=None, min_samples_split=2, min_samples_leaf=1, \\\n",
        "                         min_weight_fraction_leaf=0.0, max_features=None, random_state=None, \\\n",
        "                         max_leaf_nodes=None,  min_impurity_split=None, \\\n",
        "                         class_weight=None, ccp_alpha=0.0) \n",
        "  tree_model.fit(x_train,y_train)\n",
        "  y_predicted=tree_model.predict(x_test)\n",
        "  print(tree_model.score(x_train,y_train)\n",
        "  print(tree_model.score(x_test,y_test))\n",
        "  return y_predicted\n",
        "\n",
        "data=EDA()\n",
        "\n",
        "x_train, x_test, y_train, y_test=split_data(data)\n",
        "sklearnDtree(x_train, x_test, y_train, y_test)\n",
        "udfDtree(x_train, x_test, y_train, y_test)"
      ],
      "execution_count": null,
      "outputs": [
        {
          "output_type": "stream",
          "text": [
            "1.0\n",
            "0.6666666666666666\n"
          ],
          "name": "stdout"
        },
        {
          "output_type": "display_data",
          "data": {
            "image/png": "[encoded data removed]",
            "text/plain": [
              "<Figure size 432x288 with 1 Axes>"
            ]
          },
          "metadata": {
            "tags": [],
            "needs_background": "light"
          }
        }
      ]
    },
    {
      "cell_type": "markdown",
      "metadata": {
        "id": "6k6rWR5UqvZw"
      },
      "source": [
        "# KMEANS\n",
        "\n",
        "T(C) = O(no of data points X number of clusters X Dimension od data points X Number of Iterations)\n",
        "\n",
        "k-means clustering is a method of vector quantization, originally from signal processing, that is popular for cluster analysis in data mining. k-means clustering aims to partition n observations into k clusters in which each observation belongs to the cluster with the nearest mean, serving as a prototype of the cluster. This results in a partitioning of the data space into Voronoi cells.\n",
        "\n",
        "The problem is computationally difficult (NP-hard); however, efficient heuristic algorithms converge quickly to a local optimum. These are usually similar to the **expectation-maximization algorithm for mixtures of Gaussian distributions** via an iterative refinement approach employed by both k-means and Gaussian mixture modeling. They both use cluster centers to model the data; however, k-means clustering tends to find clusters of comparable spatial extent, while the expectation-maximization mechanism allows clusters to have different shapes.\n",
        "\n",
        "The algorithm has a loose relationship to the k-nearest neighbor classifier, a popular machine learning technique for classification that is often confused with k-means due to the name. Applying the 1-nearest neighbor classifier to the cluster centers obtained by k-means classifies new data into the existing clusters. This is known as nearest centroid classifier or Rocchio algorithm.\n",
        "\n",
        "The term \"k-means\" was first used by **James MacQueen in 1967**,though the idea goes back to Hugo Steinhaus in 1956.The standard algorithm was first proposed by Stuart Lloyd of Bell Labs in 1957 as a technique for pulse-code modulation, though it wasn't published as a journal article until 1982. In 1965, Edward W. Forgy published essentially the same method, which is why it is sometimes referred to as **Lloyd-Forgy**.\n",
        "\n",
        "k-means clustering, and its associated expectation-maximization algorithm, is a special case of a **Gaussian mixture model**, specifically, the limit of taking all covariances as diagonal, equal and small. It is often easy to generalize a k-means problem into a Gaussian mixture model. Another generalization of the k-means algorithm is the **K-SVD algorithm**, which estimates data points as a sparse linear combination of \"codebook vectors\". k-means corresponds to the special case of using a single codebook vector, with a weight of 1.\n",
        "\n",
        "**Assumptions**\n",
        "* A key limitation of k-means is its cluster model. \n",
        "* The concept is based on **spherical clusters** that are separable so that the mean converges towards the cluster center.\n",
        "* The clusters are expected to be of **similar size**, so that the assignment to the nearest cluster center is the correct assignment.\n",
        "\n",
        "**Applications**\n",
        "* k-means clustering is rather easy to apply to even large data sets, particularly when using heuristics such as Lloyd's algorithm. It has been successfully used in market segmentation, computer vision, and astronomy among many other domains. It often is used as a preprocessing step for other algorithms, for example to find a starting configuration.\n",
        "\n",
        "* Vector quantization :\n",
        "k-means originates from signal processing, and still finds use in this domain. For example, in computer graphics, color quantization is the task of reducing the color palette of an image to a fixed number of colors k. The k-means algorithm can easily be used for this task and produces competitive results. A use case for this approach is image segmentation. Other uses of vector quantization include non-random sampling, as k-means can easily be used to choose k different but prototypical objects from a large data set for further analysis.\n",
        "\n",
        "* Cluster analysis :In cluster analysis, the k-means algorithm can be used to partition the input data set into k partitions (clusters).\n",
        "\n",
        "**Advantages** \n",
        "* Relatively simple to implement.\n",
        "\n",
        "* Scales to large data sets.\n",
        "\n",
        "* Guarantees convergence.\n",
        "\n",
        "* Can warm-start the positions of centroids.\n",
        "\n",
        "* Easily adapts to new examples.\n",
        "\n",
        "* Generalizes to clusters of different shapes and sizes, such as elliptical clusters.\n",
        "\n",
        "**Disadvantages**\n",
        "* The pure k-means algorithm is **not very flexible**, and as such is of limited use (except for when vector quantization as above is actually the desired use case). \n",
        "* In particular, the parameter **k is known to be hard to choose** when not given by external constraints. \n",
        "* Another limitation is that it **cannot be used with arbitrary distance** functions \n",
        "* **Cannot be used with non-numerical data.**\n",
        "\n",
        "**Quirks**\n",
        "* The number of clusters k is an input parameter: an inappropriate choice of k may yield poor results. That is why, when performing k-means, it is important to run diagnostic checks for determining the number of clusters in the data set.\n",
        "\n",
        "### Refereces\n",
        "\n",
        "* https://developers.google.com/machine-learning/clustering\n",
        "* Kneedle : https://raghavan.usc.edu//papers/kneedle-simplex11.pdf\n",
        "* Theory : https://towardsdatascience.com/k-means-clustering-algorithm-applications-evaluation-methods-and-drawbacks-aa03e644b48a\n",
        "* Theory : https://en.wikipedia.org/wiki/K-means_clustering\n",
        "* Rocchio Algorithm : https://nlp.stanford.edu/IR-book/html/htmledition/rocchio-classification-1.html\n",
        "*\n"
      ]
    },
    {
      "cell_type": "code",
      "metadata": {
        "id": "U7Yv3GDr9IJ6"
      },
      "source": [
        "!pip install pyspark"
      ],
      "execution_count": null,
      "outputs": []
    },
    {
      "cell_type": "code",
      "metadata": {
        "id": "R9rfZYH89IsY"
      },
      "source": [
        "import numpy as np\n",
        "import pandas as pd\n",
        "import matplotlib.pyplot as plt\n",
        "import random\n",
        "\n",
        "\n",
        "\n",
        "def sklearnKMeans(train_x,k):\n",
        "  pass\n",
        "\n",
        "def KMeans(train_x,k):\n",
        "  \"\"\"\n",
        "  user defined functions to find clusters using Kmeans\n",
        "  \"\"\"\n",
        "  \n",
        "  cluster_one =np.random.normal(0,1,size=(100,2))\n",
        "  cluster_two=np.random.normal(5,1,size=(100,2))\n",
        "  \n",
        "  train_x=np.append(cluster_one,cluster_two,axis=0)\n",
        "  #print(train_x)\n",
        "  data =pd.DataFrame(train_x)\n",
        "  plt.scatter(train_x[:,0],train_x[:,1])\n",
        "  \n",
        "  k=3\n",
        "  d =data.shape[1]\n",
        "  iterations=10\n",
        "  n=len(train_x)\n",
        "  centroids=np.zeros([k,d])\n",
        "  \n",
        "  temp_centroids=np.zeros([k,d])\n",
        "  dist=np.zeros(n)\n",
        "  # Intialize a matrix for storing centoids of length k and dimensions d\n",
        "  for i in range(len(centroids)):\n",
        "    centroids[i]=random.choice([0,len(train_x)])\n",
        "    temp_centroids[i]=random.choice([0,len(train_x)])\n",
        "    \n",
        "  # Overall = O(n x k x d x i)\n",
        "  \n",
        "  for i in range(iterations):\n",
        "               \n",
        "        # Time complexity = O(n X k X d)\n",
        "        temp_centroids, dist = compute_eucledian(centroids,k,train_x,d)\n",
        "        \n",
        "  \n",
        "  \n",
        "  \n",
        "\n",
        "      \n",
        "      \n",
        "      \n",
        "    \n",
        "KMeans(None, None)\n",
        "  \n",
        "  \n",
        "  "
      ],
      "execution_count": null,
      "outputs": []
    },
    {
      "cell_type": "markdown",
      "metadata": {
        "id": "v76oShyYDdow"
      },
      "source": [
        "### Naive Bayes\n",
        "\n",
        "Pros:\n",
        "\n",
        "* It is easy and fast to predict class of test data set. It also perform well in multi class prediction\n",
        "* When assumption of independence holds, a Naive Bayes classifier performs better compare to other models like logistic regression and you need less training data.\n",
        "* It perform well in case of categorical input variables compared to numerical variable(s). For numerical variable, normal distribution is assumed (bell curve, which is a strong assumption).\n",
        "\n",
        "Cons:\n",
        "\n",
        "*  If categorical variable has a category (in test data set), which was not observed in training data set, then model will assign a 0 (zero) probability and will be unable to make a prediction. This is often known as “Zero Frequency”. To solve this, we can use the smoothing technique. One of the simplest smoothing techniques is called Laplace estimation.\n",
        "* On the other side naive Bayes is also known as a bad estimator, so the probability outputs from predict_proba are not to be taken too seriously.\n",
        "* Another limitation of Naive Bayes is the assumption of independent predictors. In real life, it is almost impossible that we get a set of predictors which are completely independent.\n",
        "\n",
        "\n",
        "#### Applications of Naive Bayes Algorithms\n",
        "*  time Prediction: Naive Bayes is an eager learning classifier and it is sure fast. Thus, it could be used for making predictions in real time.\n",
        "* Multi class Prediction: This algorithm is also well known for multi class prediction feature. Here we can predict the probability of multiple classes of target variable.\n",
        "* Text classification/ Spam Filtering/ Sentiment Analysis: Naive Bayes classifiers mostly used in text classification (due to better result in multi class problems and independence rule) have higher success rate as compared to other algorithms. As a result, it is widely used in Spam filtering (identify spam e-mail) and Sentiment Analysis (in social media analysis, to identify positive and negative customer sentiments)\n",
        "* Recommendation System: Naive Bayes Classifier and Collaborative Filtering together builds a Recommendation System that uses machine learning and data mining techniques to filter unseen information and predict whether a user would like a given resource or not\n"
      ]
    },
    {
      "cell_type": "code",
      "metadata": {
        "id": "zcaotj-Gx444"
      },
      "source": [
        "\"\"\"\n",
        "https://towardsdatascience.com/a-conceptual-explanation-of-bayesian-model-based-hyperparameter-optimization-for-machine-learning-b8172278050f\n",
        "https://www.quora.com/What-is-the-difference-between-a-Gaussian-Multinomial-and-Bernoulli-Naive-Bayes-classifier\n",
        "\n",
        "\"\"\"\n",
        "\n",
        "# load the iris dataset \n",
        "from sklearn.datasets import load_iris \n",
        "# training the model on training set \n",
        "from sklearn.naive_bayes import GaussianNB \n",
        "# splitting X and y into training and testing sets \n",
        "from sklearn.model_selection import train_test_split \n",
        "iris = load_iris() \n",
        "  \n",
        "# store the feature matrix (X) and response vector (y) \n",
        "X = iris.data \n",
        "y = iris.target \n",
        "  \n",
        "X_train, X_test, y_train, y_test = train_test_split(X, y, test_size=0.4, random_state=1) \n",
        "\n",
        "gnb = GaussianNB() \n",
        "gnb.fit(X_train, y_train) \n",
        "  \n",
        "# making predictions on the testing set \n",
        "y_pred = gnb.predict(X_test) \n",
        "  \n",
        "# comparing actual response values (y_test) with predicted response values (y_pred) \n",
        "from sklearn import metrics \n",
        "print(\"Gaussian Naive Bayes model accuracy(in %):\", metrics.accuracy_score(y_test, y_pred)*100)\n"
      ],
      "execution_count": null,
      "outputs": []
    },
    {
      "cell_type": "code",
      "metadata": {
        "id": "q5hcftQSHTyY"
      },
      "source": [
        "#Kmeans for 2 var\r\n",
        "import numpy as np\r\n",
        "\r\n",
        "x=np.array([1,2,3,3,4,2,2,1,1])\r\n",
        "y=np.array([1,3,7,1,2,34,11,1])\r\n",
        "\r\n",
        "class Kmeans:\r\n",
        "  def __init__(self):\r\n",
        "    pass\r\n",
        "\r\n",
        "  def train(x,y,k=2):\r\n",
        "\r\n",
        "    # Assign k datapoints as random centroids\r\n",
        "    k_points=np.random.choice(len(x1),k)\r\n",
        "    c1x=x[k_points[0]]\r\n",
        "    c1y=y[k_points[0]]\r\n",
        "\r\n",
        "    c2x=x[k_points[1]]\r\n",
        "    c2y=y[k_points[1]]\r\n",
        "\r\n",
        "    # Assign rem datapoints  to the k centroids randomly\r\n",
        "    for i in range(len(x)):\r\n",
        "      if i!= k_points[0] and i!=k_points[0]:\r\n",
        "\r\n",
        "\r\n",
        "    # Iterate n times\r\n",
        "    # calculate distance between all datapoints and all centroids\r\n",
        "    # Assign datapoints to the nearest centroid\r\n",
        "    # Calculate mean centroid\r\n",
        "\r\n",
        "\r\n",
        "\r\n"
      ],
      "execution_count": null,
      "outputs": []
    }
  ]
}